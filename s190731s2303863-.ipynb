{
 "cells": [
  {
   "cell_type": "markdown",
   "metadata": {
    "deletable": false,
    "editable": false,
    "id": "sbddNKfu14bM"
   },
   "source": [
    "# Project 1 - Information measures\n",
    "\n",
    "The goal of this first project is to get accustomed to the information and uncertainty measures. We ask you to write a brief report (pdf format) collecting your answers to the different questions. All codes must be written in Python inside this Jupyter Notebook. No other code file will be accepted. Note that you can not change the content of locked cells or import any extra Python library than the ones already imported (numpy and pandas)."
   ]
  },
  {
   "cell_type": "markdown",
   "metadata": {
    "deletable": false,
    "editable": false,
    "id": "IPhOrEZC14bP"
   },
   "source": [
    "## Implementation\n",
    "\n",
    "In this project, you will need to use information measures to answer several questions. Therefore, in this first part, you are asked to write several functions that implement some of the main measures seen in the first theoretical lectures. Remember that you need to fill in this Jupyter Notebook to answer these questions. Pay particular attention to the required output format of each function."
   ]
  },
  {
   "cell_type": "code",
   "execution_count": 149,
   "metadata": {
    "deletable": false,
    "editable": false,
    "id": "1ZGhdEwn14bP"
   },
   "outputs": [],
   "source": [
    "# [Locked Cell] You can not import any extra Python library in this Notebook.\n",
    "import numpy as np\n",
    "import pandas as pd"
   ]
  },
  {
   "cell_type": "markdown",
   "metadata": {
    "deletable": false,
    "editable": false,
    "id": "JFiTJaFG14bQ"
   },
   "source": [
    "### Question 1\n",
    "\n",
    "Write a function entropy that computes the entropy $\\mathcal{H(X)}$ of a random variable $\\mathcal{X}$ from its probability distribution $P_\\mathcal{X} = (p_1, p_2, . . . , p_n)$. Give the mathematical formula that you are using and explain the key parts of your implementation. Intuitively, what is measured by the entropy?"
   ]
  },
  {
   "cell_type": "code",
   "execution_count": 150,
   "metadata": {
    "id": "_4WYMYKx14bR"
   },
   "outputs": [],
   "source": [
    "def entropy(Px):\n",
    "    \"\"\"\n",
    "    Computes the entropy from the marginal probability distribution. \n",
    "    Arguments:\n",
    "    ----------\n",
    "    - Px :  Marginal probability distribution of the random \n",
    "            variable X in a numpy array where Px[i]=P(X=i)\n",
    "    Return:\n",
    "    -------\n",
    "    - The entropy of X (H(X)) as a number (integer, float or double).\n",
    "    \"\"\"\n",
    "    Px_no_0 = Px.copy()\n",
    "    # replace the probability zero with a value for the log not to raise an error\n",
    "    # this is not a big deal since the value of the log will be absorbed by the multiplication with zero\n",
    "    Px_no_0[Px_no_0 == 0] = 1 \n",
    "    return -np.sum(Px * np.log2(Px_no_0)) # We use the Shannon Entropy formula"
   ]
  },
  {
   "cell_type": "markdown",
   "metadata": {
    "deletable": false,
    "editable": false,
    "id": "LJ2Q0y5a14bR"
   },
   "source": [
    "### Question 2\n",
    "\n",
    "Write a function joint_entropy that computes the joint entropy $\\mathcal{H(X,Y)}$ of two discrete random variables $\\mathcal{X}$ and $\\mathcal{Y}$ from the joint probability distribution $P_\\mathcal{X,Y}$. Give the mathematical formula that you are using and explain the key parts of your implementation. Compare the entropy and joint_entropy functions (and their corresponding formulas), what do you notice?"
   ]
  },
  {
   "cell_type": "code",
   "execution_count": 151,
   "metadata": {
    "id": "qqK4N-_q14bS"
   },
   "outputs": [],
   "source": [
    "def joint_entropy(Pxy):\n",
    "    \"\"\"\n",
    "    Computes the joint entropy from the joint probability distribution.  \n",
    "    Arguments:\n",
    "    ----------\n",
    "    - Pxy:  joint probability distribution of X and Y \n",
    "            in a 2-D numpy array where Pxy[i][j]=P(X=i,Y=j)\n",
    "    Return:\n",
    "    -------\n",
    "    - The joint entropy H(X,Y) as a number (integer, float or double).\n",
    "    \"\"\"\n",
    "    # Thanks to numpy 2D-arrays and 1D-arrays are handle the same way using the same functions\n",
    "    # so the algorithm is strictly the same, only the shape of the input changes.\n",
    "    # But here is the math we should have done :\n",
    "    Pxy_no_0 = Pxy.copy()\n",
    "    for i in range(len(Pxy_no_0)):\n",
    "        Pxy_no_0[i][Pxy_no_0[i] == 0] = 1 # same as before replace the zeroes by a value\n",
    "    H_xy = 0\n",
    "    for i in range(Pxy.shape[0]):\n",
    "        for j in range(Pxy.shape[1]):\n",
    "            # Check if the probability is non-zero\n",
    "            if Pxy[i][j] > 0:\n",
    "                # Compute the contribution to entropy\n",
    "                H_xy -= Pxy[i][j] * np.log2(Pxy[i][j])\n",
    "    return H_xy"
   ]
  },
  {
   "cell_type": "markdown",
   "metadata": {
    "deletable": false,
    "editable": false,
    "id": "gxqVI5qt14bS"
   },
   "source": [
    "### Question 3\n",
    "\n",
    "Write a function conditional_entropy that computes the conditional entropy $\\mathcal{H(X|Y)}$ of a discrete random variable $\\mathcal{X}$ given another discrete random variable $\\mathcal{Y}$ from the joint probability distribution $P_\\mathcal{X,Y}$. Give the mathematical formula that you are using and explain the key parts of your implementation. Describe an equivalent way of computing that quantity."
   ]
  },
  {
   "cell_type": "code",
   "execution_count": 152,
   "metadata": {
    "id": "P-HBnYxh14bS"
   },
   "outputs": [],
   "source": [
    "def conditional_entropy(Pxy):\n",
    "    \"\"\"\n",
    "    Computes the conditional entropy from the joint probability distribution.\n",
    "    Arguments:\n",
    "    ----------\n",
    "    - Pxy:  joint probability distribution of X and Y \n",
    "            in a 2-D numpy array where Pxy[i][j]=P(X=i,Y=j)\n",
    "    Return:\n",
    "    -------\n",
    "    - The conditional entropy H(X|Y) as a number (integer, float or double)\n",
    "    \"\"\"\n",
    "    Py = np.sum(Pxy, axis=0)\n",
    "    Py[Py == 0] = 1 # replace the zeroes by non-zeroes, it will have no effect\n",
    "    Px_given_y = Pxy / Py # P[x|y] = P[x, y]/P[y]\n",
    "    Px_given_y[Px_given_y == 0] = 1 # replace the zeroes by non-zeroes, it will have no effect\n",
    "    return -np.sum(Pxy * np.log2(Px_given_y)) # the formula is self explanatory\n",
    "\n",
    "# prob = np.array([[1/16, 3/8, 1/16], [1/16, 3/16, 0], [0, 3/16, 1/16]])\n",
    "# print(conditional_entropy(prob) == 1.375) # is it coorect"
   ]
  },
  {
   "cell_type": "markdown",
   "metadata": {
    "deletable": false,
    "editable": false,
    "id": "t5a3I5RV14bT"
   },
   "source": [
    "### Question 4\n",
    "\n",
    "Write a function mutual_information that computes the mutual information $\\mathcal{I(X;Y)}$ between two discrete random variables $\\mathcal{X}$ and $\\mathcal{Y}$ from the joint probability distribution $P_\\mathcal{X,Y}$ . Give the mathematical formula that you are using and explain the key parts of your implementation. What can you deduce from the mutual information $\\mathcal{I(X;Y)}$ on the relationship between $\\mathcal{X}$ and $\\mathcal{Y}$? Discuss."
   ]
  },
  {
   "cell_type": "code",
   "execution_count": 153,
   "metadata": {
    "id": "1-97kFCi14bT"
   },
   "outputs": [],
   "source": [
    "def mutual_information(Pxy):\n",
    "    \"\"\"\n",
    "    Computes the mutual information I(X;Y) from joint probability distribution\n",
    "    \n",
    "    Arguments:\n",
    "    ----------\n",
    "    - Pxy:  joint probability distribution of X and Y \n",
    "            in a 2-D numpy array where Pxy[i][j]=P(X=i,Y=j)\n",
    "    Return:\n",
    "    -------\n",
    "    - The mutual information I(X;Y) as a number (integer, float or double)\n",
    "    \"\"\"\n",
    "    Px = np.sum(Pxy, axis=1)\n",
    "    Py = np.sum(Pxy, axis=0)\n",
    "    return entropy(Px) + entropy(Py) - joint_entropy(Pxy) # apply the formula I(X, Y) = H(X) + H(Y) - H(X, Y)\n",
    "\n",
    "# prob = np.array([[4/5, 0/5], [1, 0/5]])\n",
    "# print(mutual_information(prob) - 0.32192 < 0.00001) # correct"
   ]
  },
  {
   "cell_type": "markdown",
   "metadata": {
    "deletable": false,
    "editable": false,
    "id": "HLC7Qkyk14bU"
   },
   "source": [
    "### Question 5\n",
    "\n",
    "Let $\\mathcal{X}$, $\\mathcal{Y}$ and $\\mathcal{Z}$ be three discrete random variables. Write the functions cond_joint_entropy and cond_mutual_information that respectively compute $\\mathcal{H(X,Y|Z)}$ and $\\mathcal{I(X;Y|Z)}$ of two discrete random variable $\\mathcal{X}$, $\\mathcal{Y}$ given another discrete random variable $\\mathcal{Z}$ from their joint probability distribution $P_\\mathcal{X,Y,Z}$. Give the mathematical formulas that you are using and explain the key parts of your implementation.\n",
    "Suggestion: Observe the mathematical definitions of these quantities and think how you could derive them from the joint entropy and the mutual information."
   ]
  },
  {
   "cell_type": "code",
   "execution_count": 154,
   "metadata": {
    "id": "IeWejuNa14bU"
   },
   "outputs": [],
   "source": [
    "def cond_joint_entropy(Pxyz):\n",
    "    \"\"\"\n",
    "    Computes the conditional joint entropy of X, Y knowing Z \n",
    "    from the joint probability distribution Pxyz\n",
    "    Arguments:\n",
    "    ----------\n",
    "    - Pxyz: joint probability distribution of X, Y and Z\n",
    "            in a 3-D array where Pxyz[i][j][k]=P(X=i,Y=j,Z=k)\n",
    "    Return:\n",
    "    -------\n",
    "    - The conditional joint entropy H(X,Y|Z) as a number (integer, float or double)\n",
    "    \n",
    "    \"\"\"\n",
    "    p_z = np.sum(Pxyz, axis=(0,1))\n",
    "    p_z[p_z == 0] = 1 # replace the zeroes by non-zeroes, it will have no effect\n",
    "    p_xy_given_z = Pxyz / p_z\n",
    "    p_xy_given_z[p_xy_given_z == 0] = 1 # replace the zeroes by non-zeroes, it will have no effect\n",
    "    return -np.sum(Pxyz*np.log2(p_xy_given_z)) # H(X,Y|Z) = sum_xyz(P[X,Y,Z]*log_2(P[X,Y|Z]))"
   ]
  },
  {
   "cell_type": "code",
   "execution_count": 167,
   "metadata": {
    "id": "xPKeiYmc14bV"
   },
   "outputs": [],
   "source": [
    "def cond_mutual_information(Pxyz):\n",
    "    \"\"\"\n",
    "    Computes the conditional mutual information of X, Y knowing Z \n",
    "    from joint probability distribution Pxyz\n",
    "    Arguments:\n",
    "    ----------\n",
    "    - Pxyz: joint probability distribution of X, Y and Z\n",
    "            in a 3-D array where Pxyz[i][j][k]=P(X=i,Y=j,Z=k)\n",
    "    Return:\n",
    "    -------\n",
    "    - I(X;Y|Z): The conditional mutual information as a number (integer, float or double)\n",
    "    \n",
    "    \"\"\"\n",
    "    # Compute the conditional entropy of X given Z\n",
    "    H_X_given_Z = conditional_entropy(np.sum(Pxyz, axis=1))\n",
    "    \n",
    "    # Compute the conditional entropy of Y given Z\n",
    "    H_Y_given_Z = conditional_entropy(np.sum(Pxyz, axis=0))\n",
    "    \n",
    "    # Compute the conditional joint entropy of X and Y given Z\n",
    "    H_XY_given_Z = cond_joint_entropy(Pxyz)\n",
    "    \n",
    "    # Compute the conditional mutual information\n",
    "    return H_X_given_Z + H_Y_given_Z - H_XY_given_Z\n",
    "\n",
    "# p_xyz = np.array([[[2/36, 1/36], [1/36, 2/36]], [[10/36, 5/36], [8/36, 7/36]]])\n",
    "# print(cond_mutual_information(p_xyz) - 0.0040689 < 0.000001) # correct\n"
   ]
  },
  {
   "cell_type": "code",
   "execution_count": 156,
   "metadata": {
    "deletable": false,
    "editable": false,
    "id": "5TfG2aWt14bV"
   },
   "outputs": [],
   "source": [
    "# [Locked Cell] Evaluation of your functions by the examiner. \n",
    "# You don't have access to the evaluation, this will be done by the examiner.\n",
    "# Therefore, this cell will return nothing for the students.\n",
    "import os\n",
    "if os.path.isfile(\"private_evaluation.py\"):\n",
    "    from private_evaluation import unit_tests\n",
    "    unit_tests(entropy, joint_entropy, conditional_entropy, mutual_information, cond_joint_entropy, cond_mutual_information)"
   ]
  },
  {
   "cell_type": "markdown",
   "metadata": {
    "deletable": false,
    "editable": false,
    "id": "4MSJsvry14bV"
   },
   "source": [
    "### Campaign outcome\n",
    "\n",
    "You may create cells below to answer the different questions related to campaign outcome. Unlike in the first part (Implementation), you are free to define as many cells as you need below to answer the different questions. Try to be structured and clear in your code (comment it if necessary). Note that you have to answer the questions in the pdf report, including the numbers you get!"
   ]
  },
  {
   "cell_type": "markdown",
   "metadata": {},
   "source": [
    "### Question 5\n",
    "\n",
    "Compute and report the entropy of each variable, and compare each value with its\n",
    "corresponding variable cardinality. What do you notice? Justify theoretically."
   ]
  },
  {
   "cell_type": "code",
   "execution_count": 157,
   "metadata": {
    "id": "nck547oL14bW"
   },
   "outputs": [],
   "source": [
    "# retrieve the data\n",
    "df = pd.read_csv(\"data.csv\")\n",
    "\n",
    "# define useful function\n",
    "def get_probability_of(dataframe:pd.DataFrame, *variables:str):\n",
    "    shape = []\n",
    "    label_to_index = {}\n",
    "    for variable in variables:\n",
    "        uniques = dataframe[variable].unique()\n",
    "        for i, unique in enumerate(uniques):\n",
    "            label_to_index[unique] = i\n",
    "        shape.append(len(uniques))\n",
    "    probability_matrix = np.zeros(shape=shape)\n",
    "    labeled_joint_proba = (dataframe[list(variables)].value_counts() / len(df)).to_dict()\n",
    "    for key, value in labeled_joint_proba.items():\n",
    "        indexes = [label_to_index[k] for k in key]\n",
    "        probability_matrix.itemset(tuple(indexes), value)\n",
    "    # print(labeled_joint_proba)\n",
    "    # print(probability_matrix)\n",
    "    return probability_matrix"
   ]
  },
  {
   "cell_type": "code",
   "execution_count": 171,
   "metadata": {},
   "outputs": [
    {
     "name": "stdout",
     "output_type": "stream",
     "text": [
      "Entropy of campaign_outcome (card. 2) = 0.9990649315776107\n",
      "Entropy of target_demographic (card. 3) = 1.5849156232031731\n",
      "Entropy of budget_allocation (card. 3) = 1.4945090722547374\n",
      "Entropy of reach (card. 3) = 1.5632810900389758\n",
      "Entropy of conversion_rate (card. 3) = 1.5433257785229548\n",
      "Entropy of campaign_duration (card. 3) = 1.5459277368460542\n",
      "Entropy of time_of_year (card. 4) = 1.9999292608210553\n",
      "Entropy of content_type (card. 3) = 1.5480461237498753\n",
      "Entropy of platform_used (card. 6) = 2.4388925243564703\n",
      "Entropy of weather (card. 3) = 1.4545497590677807\n",
      "Entropy of previous_campaign_outcome (card. 2) = 0.9995123141215677\n",
      "\n",
      "Knowing that:\n",
      "log_2(2) = 1.0\n",
      "log_2(3) = 1.584962500721156\n",
      "log_2(4) = 2.0\n",
      "log_2(6) = 2.584962500721156\n"
     ]
    }
   ],
   "source": [
    "for column_name in df.columns:\n",
    "    proba = get_probability_of(df, column_name)\n",
    "    cardinality = len(df[column_name].unique())\n",
    "    print(f\"Entropy of {column_name} (card. {cardinality}) = {entropy(proba)}\")\n",
    "\n",
    "print(\"\\nKnowing that:\")\n",
    "for i in [2, 3, 4, 6]:\n",
    "    print(f\"log_2({i}) = {np.log2(i)}\")"
   ]
  },
  {
   "cell_type": "markdown",
   "metadata": {},
   "source": [
    "The entropies are very close to the maximum they can reach according to their cardinality. \n",
    "This means that the variables are very close to be equiprobable. "
   ]
  },
  {
   "cell_type": "markdown",
   "metadata": {},
   "source": [
    "### Question 7\n",
    "\n",
    "Compute and report the conditional entropy of outcome given each of the other\n",
    "variables. Considering the variable descriptions, what do you notice when the\n",
    "conditioning variable is (a) weather and (b) previous_outcome?"
   ]
  },
  {
   "cell_type": "code",
   "execution_count": 159,
   "metadata": {},
   "outputs": [
    {
     "name": "stdout",
     "output_type": "stream",
     "text": [
      "Joint entropy of campaign_outcome and target_demographic = 2.5835126105674195\n",
      "Joint entropy of campaign_outcome and budget_allocation = 2.272785342957926\n",
      "Joint entropy of campaign_outcome and reach = 2.4038696905058483\n",
      "Joint entropy of campaign_outcome and conversion_rate = 2.2595614403368343\n",
      "Joint entropy of campaign_outcome and campaign_duration = 2.3692847610274512\n",
      "Joint entropy of campaign_outcome and time_of_year = 2.998549091636002\n",
      "Joint entropy of campaign_outcome and content_type = 2.546786945426244\n",
      "Joint entropy of campaign_outcome and platform_used = 3.437571355022738\n",
      "Joint entropy of campaign_outcome and weather = 2.453513332407548\n",
      "Joint entropy of campaign_outcome and previous_campaign_outcome = 1.8575661545610016\n"
     ]
    }
   ],
   "source": [
    "for column_name in df.columns[1:]:\n",
    "    proba = get_probability_of(df, \"campaign_outcome\", column_name)\n",
    "    print(f\"Joint entropy of campaign_outcome and {column_name} = {joint_entropy(proba)}\")"
   ]
  },
  {
   "cell_type": "markdown",
   "metadata": {},
   "source": [
    "Interpretation..."
   ]
  },
  {
   "cell_type": "markdown",
   "metadata": {},
   "source": [
    "### Question 8\n",
    "\n",
    "Compute the mutual information between the variables target_demographic and\n",
    "budget. What can you deduce about the relationship between these two variables?\n",
    "What about the variables duration and reach?"
   ]
  },
  {
   "cell_type": "code",
   "execution_count": 160,
   "metadata": {},
   "outputs": [
    {
     "name": "stdout",
     "output_type": "stream",
     "text": [
      "Mutual information = 0.0003102527638816355\n"
     ]
    }
   ],
   "source": [
    "proba = get_probability_of(df, \"target_demographic\", \"budget_allocation\")\n",
    "print(f\"Mutual information = {mutual_information(proba)}\")"
   ]
  },
  {
   "cell_type": "markdown",
   "metadata": {},
   "source": [
    "They are strongly conrrelated."
   ]
  },
  {
   "cell_type": "markdown",
   "metadata": {},
   "source": [
    "### Question 9\n",
    "\n",
    "A student in Computer Science from the University of Liège bets his friends that he\n",
    "can predict the upcoming election by accessing the dataset. However, his hacking\n",
    "skills are still weak. Therefore, he can only access a single variable of the dataset to\n",
    "make its prediction. Using only the mutual information, which variable should he\n",
    "choose to get? Would using conditional entropy lead to another choice?"
   ]
  },
  {
   "cell_type": "code",
   "execution_count": 161,
   "metadata": {},
   "outputs": [
    {
     "name": "stdout",
     "output_type": "stream",
     "text": [
      "Mutual information of target_demographic = 0.00046794421336437964\n",
      "Conditional entropy of target_demographic = 0.9985969873642466\n",
      "\n",
      "Mutual information of budget_allocation = 0.22078866087442206\n",
      "Conditional entropy of budget_allocation = 0.7782762707031883\n",
      "\n",
      "Mutual information of reach = 0.15847633111073822\n",
      "Conditional entropy of reach = 0.8405886004668729\n",
      "\n",
      "Mutual information of conversion_rate = 0.28282926976373135\n",
      "Conditional entropy of conversion_rate = 0.71623566181388\n",
      "\n",
      "Mutual information of campaign_duration = 0.17570790739621378\n",
      "Conditional entropy of campaign_duration = 0.8233570241813968\n",
      "\n",
      "Mutual information of time_of_year = 0.0004451007626640191\n",
      "Conditional entropy of time_of_year = 0.9986198308149461\n",
      "\n",
      "Mutual information of content_type = 0.0003241099012418758\n",
      "Conditional entropy of content_type = 0.9987408216763687\n",
      "\n",
      "Mutual information of platform_used = 0.0003861009113430569\n",
      "Conditional entropy of platform_used = 0.9986788306662672\n",
      "\n",
      "Mutual information of weather = 0.00010135823784329645\n",
      "Conditional entropy of weather = 0.998963573339767\n",
      "\n",
      "Mutual information of previous_campaign_outcome = 0.14101109113817678\n",
      "Conditional entropy of previous_campaign_outcome = 0.8580538404394341\n"
     ]
    }
   ],
   "source": [
    "for column_name in df.columns[1:]:\n",
    "    proba = get_probability_of(df, \"campaign_outcome\", column_name)\n",
    "    print(f\"Mutual information of {column_name} = {mutual_information(proba)}\")\n",
    "    print(f\"Conditional entropy of {column_name} = {conditional_entropy(proba)}\")\n",
    "    print()"
   ]
  },
  {
   "cell_type": "markdown",
   "metadata": {},
   "source": [
    "The greater the mutual information the better (the other variable brings more information). The less the conditional entropy the better (the combination is less chaotic)."
   ]
  },
  {
   "cell_type": "markdown",
   "metadata": {},
   "source": [
    "### Question 10\n",
    "\n",
    "With the outcome of the previous campaign considered as known, would you change\n",
    "your answer from the previous question? What can you say about the amount of\n",
    "information provided by this variable? Compare this value with previous results."
   ]
  },
  {
   "cell_type": "code",
   "execution_count": 162,
   "metadata": {},
   "outputs": [
    {
     "name": "stdout",
     "output_type": "stream",
     "text": [
      "Conditional mutual information of target_demographic = 0.0003985163299744521\n",
      "Conditional entropy of target_demographic = 2.442317999656003\n",
      "Conditional mutual information of budget_allocation = 0.07989548254691603\n",
      "Conditional entropy of budget_allocation = 1.60300192851701\n",
      "Conditional mutual information of reach = 0.07253954112604966\n",
      "Conditional entropy of reach = 2.1852658721326526\n",
      "Conditional mutual information of conversion_rate = 0.1460290388860157\n",
      "Conditional entropy of conversion_rate = 1.8915394192237796\n",
      "Conditional mutual information of campaign_duration = 0.06716314379005839\n",
      "Conditional entropy of campaign_duration = 2.0540785496114826\n",
      "Conditional mutual information of time_of_year = 0.0008174372387945716\n",
      "Conditional entropy of time_of_year = 2.856954550374585\n",
      "Conditional mutual information of content_type = 0.00035869622008632973\n",
      "Conditional entropy of content_type = 2.404913313161649\n",
      "Conditional mutual information of platform_used = 0.0011788484109191977\n",
      "Conditional entropy of platform_used = 3.294461302045916\n",
      "Conditional mutual information of weather = 0.0005459350050034395\n",
      "Conditional entropy of weather = 2.3116280184262665\n"
     ]
    }
   ],
   "source": [
    "for column_name in df.columns[1:-1]:\n",
    "    proba = get_probability_of(df, \"campaign_outcome\", column_name, \"previous_campaign_outcome\")\n",
    "    print(f\"Conditional mutual information of {column_name} = {cond_mutual_information(proba)}\")\n",
    "    print(f\"Conditional entropy of {column_name} = {cond_joint_entropy(proba)}\")"
   ]
  }
 ],
 "metadata": {
  "colab": {
   "provenance": []
  },
  "kernelspec": {
   "display_name": "Python 3",
   "language": "python",
   "name": "python3"
  },
  "language_info": {
   "codemirror_mode": {
    "name": "ipython",
    "version": 3
   },
   "file_extension": ".py",
   "mimetype": "text/x-python",
   "name": "python",
   "nbconvert_exporter": "python",
   "pygments_lexer": "ipython3",
   "version": "3.9.6"
  }
 },
 "nbformat": 4,
 "nbformat_minor": 0
}

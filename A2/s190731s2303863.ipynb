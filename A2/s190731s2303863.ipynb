{
 "cells": [
  {
   "cell_type": "markdown",
   "source": [
    "# Project 2 - Source coding, data compression and channel coding\n",
    "\n",
    "The goal of this second project is to apply some of the principles seen in the lectures about source coding, data compression and channel coding. We ask you to write a brief report (pdf format) collecting your answers to the different questions. All codes must be written in Python inside this Jupyter. Note that you can not change the content of locked cells or import any extra Python library than the ones already imported (numpy)."
   ],
   "metadata": {
    "collapsed": false
   },
   "id": "346657f6318f08bb"
  },
  {
   "cell_type": "markdown",
   "source": [
    "## Implementation\n",
    "\n",
    "In this project, you will need to use implement source coding algorithms to answer several questions. Therefore, in this first part, you are asked to write several functions that implement two of the  algorithms seen in the theoretical lectures and one new algorithm described in the project statement. Remember that you need to fill in this Jupyter Notebook to answer these questions. Pay particular attention to the required input and output format of each function."
   ],
   "metadata": {
    "collapsed": false
   },
   "id": "35ace11e63ee4a36"
  },
  {
   "cell_type": "code",
   "execution_count": null,
   "outputs": [],
   "source": [
    "# [Locked Cell] You can not import any extra Python library in this Notebook.\n",
    "import numpy as np"
   ],
   "metadata": {
    "collapsed": false
   },
   "id": "6ac1f3d4b45980d4"
  },
  {
   "cell_type": "markdown",
   "source": [
    "### Question 1\n",
    "Implement a function that returns a binary Huffman code for a given probability distribution. Give the main steps of your implementation. Verify your code on Exercise 7 of the second exercise session (TP2), and report the output of your code for this example. Explain how to extend your function to generate a Huffman code of any (output) alphabet size. \n"
   ],
   "metadata": {
    "collapsed": false
   },
   "id": "dbca5e839e69848f"
  },
  {
   "cell_type": "markdown",
   "source": [
    "(text answers in report)\n"
   ],
   "metadata": {
    "collapsed": false
   },
   "id": "e24af452a8815dee"
  },
  {
   "cell_type": "code",
   "execution_count": 5,
   "outputs": [
    {
     "data": {
      "text/plain": "{'A': '000', 'B': '001', 'E': '01', 'C': '100', 'D': '101', 'F': '11'}"
     },
     "execution_count": 5,
     "metadata": {},
     "output_type": "execute_result"
    }
   ],
   "source": [
    "class Node:\n",
    "    def __init__(self, symbol, prob):\n",
    "        self.symbol = symbol\n",
    "        self.prob = prob\n",
    "        self.left = None\n",
    "        self.right = None\n",
    "        self.code = ''\n",
    "\n",
    "def Huffman_code(probability_dict):\n",
    "    \"\"\"\n",
    "    Create the Huffman code for given probabilities.\n",
    "    \n",
    "    Arguments:\n",
    "    ----------\n",
    "    probability_dict: A dictionary where keys are symbols (characters or strings)\n",
    "                      and values are the probability of the symbol as a float or double.\n",
    "    \n",
    "    Returns:\n",
    "    ----------\n",
    "    codewords: A dictionary with the name and the corresponding codeword.\n",
    "               Keys are symbols (characters or strings) and values are associated\n",
    "               codeword as a character or a string.\n",
    "    \"\"\"\n",
    "    nodes = [Node(symbol, prob) for symbol, prob in probability_dict.items()]\n",
    "    while len(nodes) > 1:\n",
    "\n",
    "        nodes.sort(key=lambda node: node.prob)\n",
    "        \n",
    "        # Nodes with fewer probs\n",
    "        left = nodes.pop(0)\n",
    "        right = nodes.pop(0)\n",
    "\n",
    "        new_node = Node(None, left.prob + right.prob)\n",
    "        new_node.left = left\n",
    "        new_node.right = right\n",
    "\n",
    "        nodes.append(new_node)\n",
    "\n",
    "    root = nodes[0]\n",
    "    codeword_dict = assign_codes(root)\n",
    "\n",
    "    return codeword_dict\n",
    "\n",
    "# Recursive function to assign codes to leaves\n",
    "def assign_codes(node, prefix=''):\n",
    "    if node.symbol is not None:\n",
    "        return {node.symbol: prefix}\n",
    "    else:\n",
    "        codes = {}\n",
    "        codes.update(assign_codes(node.left, prefix + '0'))\n",
    "        codes.update(assign_codes(node.right, prefix + '1'))\n",
    "        return codes\n",
    "\n",
    "probability_dict = {\"A\": 0.05, \"B\": 0.10, \"C\": 0.15, \"D\": 0.15, \"E\": 0.2, \"F\": 0.35}\n",
    "Huffman_code(probability_dict)\n"
   ],
   "metadata": {
    "collapsed": false,
    "ExecuteTime": {
     "end_time": "2024-05-07T11:34:00.258365Z",
     "start_time": "2024-05-07T11:34:00.254923Z"
    }
   },
   "id": "9cccfdafdb8f9366"
  },
  {
   "cell_type": "markdown",
   "source": [
    "### Question 2\n",
    "\n",
    "Given a sequence of symbols, implement a function that returns a dictionary and the encoded sequence using the on-line Lempel-Ziv algorithm (see State of the art in data compression, slide 50/53). Reproduce and report the example given in the course. "
   ],
   "metadata": {
    "collapsed": false
   },
   "id": "44d6a7bce711c611"
  },
  {
   "cell_type": "code",
   "execution_count": 6,
   "outputs": [
    {
     "name": "stdout",
     "output_type": "stream",
     "text": [
      "dictionary: {'': (0, '0'), '1': (1, '1'), '0': (2, '10'), '11': (3, '11'), '01': (4, '100'), '010': (5, '101'), '00': (6, '110'), '10': (7, '111')}\n",
      "encoded sequence: 100110100010001\n"
     ]
    }
   ],
   "source": [
    "def LZ_online(sequence):\n",
    "    \"\"\"\n",
    "    The on-line Lempel-Ziv algorithm given a sequence of symbols.\n",
    "\n",
    "    Arguments:\n",
    "    ----------\n",
    "    - sequence: Sequence of symbols in the string format\n",
    "\n",
    "    Return:\n",
    "    ----------\n",
    "    - dictionary: the computed dictionary in the form:\n",
    "      keys: symbol as character or string\n",
    "      values: associated codeword as a tuple (integer) and a binarized address with one appended symbol (character or string)\n",
    "      Example: {'0': (0, ''), '1': (1, '0'), '10': (2, '01'), '00': (3, '010')}\n",
    "\n",
    "    - encoded_sequence: the encoded sequence in the string format\n",
    "    \"\"\"\n",
    "    dictionary = {'': (0, '0')}\n",
    "    encoded_sequence = \"\"\n",
    "    w = \"\"\n",
    "    # The first entry is special, handle it separately\n",
    "    if sequence[0] == '1':\n",
    "        dictionary['1'] = (1, '1')\n",
    "        encoded_sequence += \"1\"\n",
    "        index = 2\n",
    "    else:\n",
    "        dictionary['0'] = (1, '0')\n",
    "        encoded_sequence += \"0\"\n",
    "        index = 2\n",
    "\n",
    "    for c in sequence[1:]:\n",
    "        wc = w + c\n",
    "        if wc not in dictionary:\n",
    "            address_bits = int(np.ceil(np.log2(len(dictionary))))\n",
    "            prefix = format(dictionary[w][0], '0{}b'.format(address_bits))\n",
    "            encoded_sequence += prefix\n",
    "\n",
    "            bin_address = format(index, '0{}b'.format(address_bits))\n",
    "            dictionary[wc] = (index, bin_address)\n",
    "\n",
    "            index += 1\n",
    "            w = \"\"\n",
    "        else:\n",
    "            w = wc\n",
    "\n",
    "    # Encode the last phrase if it's not empty\n",
    "    if w:\n",
    "        address_bits = int(np.ceil(np.log2(max(len(dictionary), 1))))\n",
    "        prefix = format(dictionary[w][0], '0{}b'.format(address_bits))\n",
    "        encoded_sequence += prefix\n",
    "\n",
    "    return dictionary, encoded_sequence\n",
    "\n",
    "sequence = \"1011010100010\"\n",
    "dictionary, encoded_sequence = LZ_online(sequence)\n",
    "print(f'dictionary: {dictionary}')\n",
    "print(f'encoded sequence: {encoded_sequence}')\n"
   ],
   "metadata": {
    "collapsed": false,
    "ExecuteTime": {
     "end_time": "2024-05-07T11:34:24.092421Z",
     "start_time": "2024-05-07T11:34:24.072695Z"
    }
   },
   "id": "d7b4bc6e95a459cf"
  },
  {
   "cell_type": "markdown",
   "source": [
    "### Question 4\n",
    "\n",
    "Implement a function that returns the encoded sequence using the LZ77 algorithm as described by the algorithm below given an input string and a sliding window size l. Reproduce the example given in Figure 2 with window_size=7."
   ],
   "metadata": {
    "collapsed": false
   },
   "id": "1c1c7635a27fe23f"
  },
  {
   "cell_type": "code",
   "execution_count": 7,
   "outputs": [
    {
     "name": "stdout",
     "output_type": "stream",
     "text": [
      "Encoded result: 00a00b00r31c21d74d\n"
     ]
    }
   ],
   "source": [
    "def LZ77(sequence, window_size=7):\n",
    "    \"\"\"\n",
    "    The Lempel-Ziv 77 algorithm given a sequence of symbols and the sliding window size.\n",
    "    \n",
    "    Arguments:\n",
    "    ----------\n",
    "    - sequence : Sequence of symbols in the string format\n",
    "    - window_size : sliding window size as an integer\n",
    "    \n",
    "    Return:\n",
    "    -------\n",
    "    - encoded_sequence : the encoded sequence in the string format\n",
    "    \"\"\"\n",
    "    encoded_sequence = []\n",
    "    cursor = 0\n",
    "\n",
    "    while cursor < len(sequence):\n",
    "        # Look-ahead buffer\n",
    "        buffer = sequence[cursor:]\n",
    "        window = sequence[max(0, cursor-window_size):cursor]\n",
    "\n",
    "        p = 0\n",
    "        d = 0\n",
    "        c = ''\n",
    "        \n",
    "        for length in range(1, len(buffer)+1):\n",
    "            prefix = buffer[:length]\n",
    "            position = window.rfind(prefix)\n",
    "            if  position>= 0:\n",
    "                d = len(window) - position\n",
    "                p = length\n",
    "                c = buffer[length] if length < len(buffer) else ''\n",
    "            else:\n",
    "                break\n",
    "             \n",
    "        # If no match found, just take the first character of the buffer\n",
    "        if p == 0 and len(buffer) > 0:\n",
    "            c = buffer[0]\n",
    "        \n",
    "        encoded_sequence.append((d, p, c))\n",
    "        shift = p + 1 if p > 0 else 1\n",
    "        cursor += shift\n",
    "    \n",
    "    encoded_sequence_str = ''.join(['{}{}{}'.format(d, p, c) for d, p, c in encoded_sequence])\n",
    "    \n",
    "    return encoded_sequence_str\n",
    "\n",
    "test_sequence = \"abracadabrad\"\n",
    "test_window_size = 7\n",
    "encoded_result = LZ77(test_sequence, test_window_size)\n",
    "print(f'Encoded result: {encoded_result}')"
   ],
   "metadata": {
    "collapsed": false,
    "ExecuteTime": {
     "end_time": "2024-05-07T11:34:39.123846Z",
     "start_time": "2024-05-07T11:34:39.087769Z"
    }
   },
   "id": "eb947b6e0451bcc0"
  },
  {
   "cell_type": "code",
   "execution_count": 8,
   "outputs": [],
   "source": [
    "# [Locked Cell] Evaluation of your functions by the examiner. \n",
    "# You don't have access to the evaluation, this will be done by the examiner.\n",
    "# Therefore, this cell will return nothing for the students.\n",
    "import os\n",
    "if os.path.isfile(\"private_evaluation.py\"):\n",
    "    from private_evaluation import unit_tests\n",
    "    unit_tests(Huffman_code, LZ_online, LZ77)"
   ],
   "metadata": {
    "collapsed": false,
    "ExecuteTime": {
     "end_time": "2024-05-07T11:34:44.271729Z",
     "start_time": "2024-05-07T11:34:44.252615Z"
    }
   },
   "id": "2dfd3034f116bde9"
  },
  {
   "cell_type": "markdown",
   "source": [
    "## Source coding and reversible (lossless) data compression\n"
   ],
   "metadata": {
    "collapsed": false
   },
   "id": "5312f971d487bf74"
  },
  {
   "cell_type": "markdown",
   "source": [
    "### Question 5\n",
    "\n",
    "Estimate the marginal probability distribution of all symbols (1,2,_,/) from the given\n",
    "wigwag text, and determine the corresponding binary Huffman code and the encoded\n",
    "wigwag text. Give the total length of the encoded wigwag text and the compression\n",
    "rate."
   ],
   "metadata": {
    "collapsed": false
   },
   "id": "cc6cb0cdb27d190a"
  },
  {
   "cell_type": "code",
   "execution_count": 9,
   "outputs": [
    {
     "ename": "FileNotFoundError",
     "evalue": "[Errno 2] No such file or directory: 'wigwag.txt'",
     "output_type": "error",
     "traceback": [
      "\u001B[0;31m---------------------------------------------------------------------------\u001B[0m",
      "\u001B[0;31mFileNotFoundError\u001B[0m                         Traceback (most recent call last)",
      "Cell \u001B[0;32mIn[9], line 1\u001B[0m\n\u001B[0;32m----> 1\u001B[0m \u001B[38;5;28;01mwith\u001B[39;00m \u001B[38;5;28;43mopen\u001B[39;49m\u001B[43m(\u001B[49m\u001B[38;5;124;43m\"\u001B[39;49m\u001B[38;5;124;43mwigwag.txt\u001B[39;49m\u001B[38;5;124;43m\"\u001B[39;49m\u001B[43m)\u001B[49m \u001B[38;5;28;01mas\u001B[39;00m file:\n\u001B[1;32m      2\u001B[0m     wigwag \u001B[38;5;241m=\u001B[39m file\u001B[38;5;241m.\u001B[39mreadline()\n\u001B[1;32m      4\u001B[0m wigwag_probas \u001B[38;5;241m=\u001B[39m {c: wigwag\u001B[38;5;241m.\u001B[39mcount(c)\u001B[38;5;241m/\u001B[39m\u001B[38;5;28mlen\u001B[39m(wigwag) \u001B[38;5;28;01mfor\u001B[39;00m c \u001B[38;5;129;01min\u001B[39;00m \u001B[38;5;28mset\u001B[39m(wigwag)}\n",
      "File \u001B[0;32m/usr/local/lib/python3.11/site-packages/IPython/core/interactiveshell.py:286\u001B[0m, in \u001B[0;36m_modified_open\u001B[0;34m(file, *args, **kwargs)\u001B[0m\n\u001B[1;32m    279\u001B[0m \u001B[38;5;28;01mif\u001B[39;00m file \u001B[38;5;129;01min\u001B[39;00m {\u001B[38;5;241m0\u001B[39m, \u001B[38;5;241m1\u001B[39m, \u001B[38;5;241m2\u001B[39m}:\n\u001B[1;32m    280\u001B[0m     \u001B[38;5;28;01mraise\u001B[39;00m \u001B[38;5;167;01mValueError\u001B[39;00m(\n\u001B[1;32m    281\u001B[0m         \u001B[38;5;124mf\u001B[39m\u001B[38;5;124m\"\u001B[39m\u001B[38;5;124mIPython won\u001B[39m\u001B[38;5;124m'\u001B[39m\u001B[38;5;124mt let you open fd=\u001B[39m\u001B[38;5;132;01m{\u001B[39;00mfile\u001B[38;5;132;01m}\u001B[39;00m\u001B[38;5;124m by default \u001B[39m\u001B[38;5;124m\"\u001B[39m\n\u001B[1;32m    282\u001B[0m         \u001B[38;5;124m\"\u001B[39m\u001B[38;5;124mas it is likely to crash IPython. If you know what you are doing, \u001B[39m\u001B[38;5;124m\"\u001B[39m\n\u001B[1;32m    283\u001B[0m         \u001B[38;5;124m\"\u001B[39m\u001B[38;5;124myou can use builtins\u001B[39m\u001B[38;5;124m'\u001B[39m\u001B[38;5;124m open.\u001B[39m\u001B[38;5;124m\"\u001B[39m\n\u001B[1;32m    284\u001B[0m     )\n\u001B[0;32m--> 286\u001B[0m \u001B[38;5;28;01mreturn\u001B[39;00m \u001B[43mio_open\u001B[49m\u001B[43m(\u001B[49m\u001B[43mfile\u001B[49m\u001B[43m,\u001B[49m\u001B[43m \u001B[49m\u001B[38;5;241;43m*\u001B[39;49m\u001B[43margs\u001B[49m\u001B[43m,\u001B[49m\u001B[43m \u001B[49m\u001B[38;5;241;43m*\u001B[39;49m\u001B[38;5;241;43m*\u001B[39;49m\u001B[43mkwargs\u001B[49m\u001B[43m)\u001B[49m\n",
      "\u001B[0;31mFileNotFoundError\u001B[0m: [Errno 2] No such file or directory: 'wigwag.txt'"
     ]
    }
   ],
   "source": [
    "with open(\"wigwag.txt\") as file:\n",
    "    wigwag = file.readline()\n",
    "\n",
    "wigwag_probas = {c: wigwag.count(c)/len(wigwag) for c in set(wigwag)}\n",
    "\n",
    "print(wigwag_probas)\n",
    "huffman = Huffman_code(wigwag_probas)\n",
    "print(huffman)\n",
    "encoded = \"\".join([huffman[w] for w in wigwag])\n",
    "length_wigwag = len(wigwag)*np.log2(len(set(wigwag)))\n",
    "print(f\"{len(encoded)=}\")\n",
    "print(f\"Compression rate : {length_wigwag/len(encoded)}\")\n"
   ],
   "metadata": {
    "collapsed": false,
    "ExecuteTime": {
     "end_time": "2024-05-07T11:35:09.848342Z",
     "start_time": "2024-05-07T11:35:09.611630Z"
    }
   },
   "id": "afd9b618d87554ca"
  },
  {
   "cell_type": "markdown",
   "source": [
    "### Question 6\n",
    "\n",
    "Give the expected average length for your Huffman code. Compare this value with\n",
    "(a) the empirical average length, and (b) theoretical bound(s). Justify."
   ],
   "metadata": {
    "collapsed": false
   },
   "id": "f3fca5fd490729aa"
  },
  {
   "cell_type": "code",
   "execution_count": 10,
   "outputs": [
    {
     "ename": "NameError",
     "evalue": "name 'wigwag_probas' is not defined",
     "output_type": "error",
     "traceback": [
      "\u001B[0;31m---------------------------------------------------------------------------\u001B[0m",
      "\u001B[0;31mNameError\u001B[0m                                 Traceback (most recent call last)",
      "Cell \u001B[0;32mIn[10], line 1\u001B[0m\n\u001B[0;32m----> 1\u001B[0m expected_average_length \u001B[38;5;241m=\u001B[39m \u001B[38;5;28msum\u001B[39m(prob \u001B[38;5;241m*\u001B[39m \u001B[38;5;28mlen\u001B[39m(huffman[symbol]) \u001B[38;5;28;01mfor\u001B[39;00m symbol, prob \u001B[38;5;129;01min\u001B[39;00m \u001B[43mwigwag_probas\u001B[49m\u001B[38;5;241m.\u001B[39mitems())\n\u001B[1;32m      3\u001B[0m empirical_average_length \u001B[38;5;241m=\u001B[39m \u001B[38;5;28mlen\u001B[39m(encoded) \u001B[38;5;241m/\u001B[39m \u001B[38;5;28mlen\u001B[39m(wigwag)\n\u001B[1;32m      5\u001B[0m entropy \u001B[38;5;241m=\u001B[39m \u001B[38;5;28msum\u001B[39m(prob \u001B[38;5;241m*\u001B[39m np\u001B[38;5;241m.\u001B[39mlog2(prob) \u001B[38;5;28;01mfor\u001B[39;00m prob \u001B[38;5;129;01min\u001B[39;00m wigwag_probas\u001B[38;5;241m.\u001B[39mvalues() \u001B[38;5;28;01mif\u001B[39;00m prob \u001B[38;5;241m!=\u001B[39m \u001B[38;5;241m0\u001B[39m) \u001B[38;5;241m*\u001B[39m \u001B[38;5;241m-\u001B[39m\u001B[38;5;241m1\u001B[39m\n",
      "\u001B[0;31mNameError\u001B[0m: name 'wigwag_probas' is not defined"
     ]
    }
   ],
   "source": [
    "expected_average_length = sum(prob * len(huffman[symbol]) for symbol, prob in wigwag_probas.items())\n",
    "\n",
    "empirical_average_length = len(encoded) / len(wigwag)\n",
    "\n",
    "entropy = sum(prob * np.log2(prob) for prob in wigwag_probas.values() if prob != 0) * -1\n",
    "\n",
    "print(f\"{expected_average_length=}\")\n",
    "print(f\"{empirical_average_length=}\")\n",
    "print(f\"{entropy=}\")\n",
    "\n",
    "# The expected average length and the empirical are nearly the same (and should even be the same, the difference is due to the rounding of numbers), because the probabilities for the huffman code are computed using only the empirical data also used to compute the empirical average length;\n",
    "# We can also see that the entropy is lower (which is coherent because it is the minimum theritical bound), the maximum bound is the infinity because you can produce a prefix-free, uniquely decodable code and append a symbol to it infinetely to preserve the properties, so the length can always be equal to length + 1.\n"
   ],
   "metadata": {
    "collapsed": false,
    "ExecuteTime": {
     "end_time": "2024-05-07T11:35:25.165738Z",
     "start_time": "2024-05-07T11:35:25.146793Z"
    }
   },
   "id": "57f7690a856c8aa5"
  },
  {
   "cell_type": "markdown",
   "source": [
    "### Question 7\n",
    "\n",
    "Plot the evolution of the empirical average length of the encoded wigwag using your\n",
    "Huffman code for increasing input text lengths."
   ],
   "metadata": {
    "collapsed": false
   },
   "id": "725d23576ffee76d"
  },
  {
   "cell_type": "code",
   "execution_count": 11,
   "outputs": [
    {
     "ename": "NameError",
     "evalue": "name 'wigwag' is not defined",
     "output_type": "error",
     "traceback": [
      "\u001B[0;31m---------------------------------------------------------------------------\u001B[0m",
      "\u001B[0;31mNameError\u001B[0m                                 Traceback (most recent call last)",
      "Cell \u001B[0;32mIn[11], line 3\u001B[0m\n\u001B[1;32m      1\u001B[0m \u001B[38;5;28;01mimport\u001B[39;00m \u001B[38;5;21;01mmatplotlib\u001B[39;00m\u001B[38;5;21;01m.\u001B[39;00m\u001B[38;5;21;01mpyplot\u001B[39;00m \u001B[38;5;28;01mas\u001B[39;00m \u001B[38;5;21;01mplt\u001B[39;00m\n\u001B[0;32m----> 3\u001B[0m empirical_average_increasing_length \u001B[38;5;241m=\u001B[39m [\u001B[38;5;28mlen\u001B[39m(\u001B[38;5;124m\"\u001B[39m\u001B[38;5;124m\"\u001B[39m\u001B[38;5;241m.\u001B[39mjoin([huffman[w] \u001B[38;5;28;01mfor\u001B[39;00m w \u001B[38;5;129;01min\u001B[39;00m wigwag[:i\u001B[38;5;241m+\u001B[39m\u001B[38;5;241m1\u001B[39m]])) \u001B[38;5;241m/\u001B[39m \u001B[38;5;28mlen\u001B[39m(wigwag[:i\u001B[38;5;241m+\u001B[39m\u001B[38;5;241m1\u001B[39m]) \u001B[38;5;28;01mfor\u001B[39;00m i \u001B[38;5;129;01min\u001B[39;00m \u001B[38;5;28mrange\u001B[39m(\u001B[38;5;241m1\u001B[39m, \u001B[38;5;28mlen\u001B[39m(\u001B[43mwigwag\u001B[49m), \u001B[38;5;28mlen\u001B[39m(wigwag)\u001B[38;5;241m/\u001B[39m\u001B[38;5;241m/\u001B[39m\u001B[38;5;241m100\u001B[39m)]\n\u001B[1;32m      4\u001B[0m encoded_increasing_length \u001B[38;5;241m=\u001B[39m [expected_average_length \u001B[38;5;28;01mfor\u001B[39;00m _ \u001B[38;5;129;01min\u001B[39;00m \u001B[38;5;28mrange\u001B[39m(\u001B[38;5;241m1\u001B[39m, \u001B[38;5;28mlen\u001B[39m(wigwag), \u001B[38;5;28mlen\u001B[39m(wigwag)\u001B[38;5;241m/\u001B[39m\u001B[38;5;241m/\u001B[39m\u001B[38;5;241m100\u001B[39m)]\n\u001B[1;32m      5\u001B[0m plt\u001B[38;5;241m.\u001B[39mplot(empirical_average_increasing_length)\n",
      "\u001B[0;31mNameError\u001B[0m: name 'wigwag' is not defined"
     ]
    }
   ],
   "source": [
    "import matplotlib.pyplot as plt\n",
    "\n",
    "empirical_average_increasing_length = [len(\"\".join([huffman[w] for w in wigwag[:i+1]])) / len(wigwag[:i+1]) for i in range(1, len(wigwag), len(wigwag)//100)]\n",
    "encoded_increasing_length = [expected_average_length for _ in range(1, len(wigwag), len(wigwag)//100)]\n",
    "plt.plot(empirical_average_increasing_length)\n",
    "plt.plot(encoded_increasing_length)\n",
    "plt.show()"
   ],
   "metadata": {
    "collapsed": false,
    "ExecuteTime": {
     "end_time": "2024-05-07T11:35:47.585711Z",
     "start_time": "2024-05-07T11:35:47.255938Z"
    }
   },
   "id": "39b929b853ffdbdd"
  },
  {
   "cell_type": "markdown",
   "source": [
    "### Question 8\n",
    "\n",
    "Encode the wigwag code using the on-line Lempel-Ziv algorithm. Give the total\n",
    "length of the encoded code and the compression rate."
   ],
   "metadata": {
    "collapsed": false
   },
   "id": "5f7bb8da28943796"
  },
  {
   "cell_type": "code",
   "execution_count": 13,
   "outputs": [
    {
     "name": "stdout",
     "output_type": "stream",
     "text": [
      "Dictionary: {'': (0, '0'), 'H': (1, 'H'), 'e': (2, '10'), 'l': (3, '11'), 'lo': (4, '100'), ' ': (5, '101'), 'W': (6, '110'), 'o': (7, '111'), 'r': (8, '1000'), 'ld': (9, '1001')}\n",
      "Encoded sequence: 000000110000100000000110001100010000010100000111000000010000010000110010\n"
     ]
    }
   ],
   "source": [
    "def My_LZ_Online(sequence):\n",
    "    \"\"\"\n",
    "    The on-line Lempel-Ziv algorithm given a sequence of symbols.\n",
    "\n",
    "    Arguments:\n",
    "    ----------\n",
    "    - sequence: Sequence of symbols in the string format\n",
    "\n",
    "    Return:\n",
    "    ----------\n",
    "    - dictionary: the computed dictionary in the form:\n",
    "      keys: symbol as character or string\n",
    "      values: associated codeword as a tuple (integer) and a binarized address with one appended symbol (character or string)\n",
    "      Example: {'0': (0, ''), '1': (1, '0'), '10': (2, '01'), '00': (3, '010')}\n",
    "\n",
    "    - encoded_sequence: the encoded sequence in the string format with only 0 and 1\n",
    "    \"\"\"\n",
    "    dictionary = {'': (0, '0')}\n",
    "    encoded_sequence_list = []\n",
    "    w = \"\"\n",
    "    # The first entry is special, handle it separately\n",
    "    dictionary[sequence[0]] = (1, sequence[0])\n",
    "    encoded_sequence_list.append(['', sequence[0]])\n",
    "    index = 2\n",
    "    for c in sequence[1:]:\n",
    "        wc = w + c\n",
    "        if wc not in dictionary:\n",
    "            address_bits = int(np.ceil(np.log2(len(dictionary))))\n",
    "            prefix = format(dictionary[w][0], '0{}b'.format(address_bits))\n",
    "            encoded_sequence_list.append([str(prefix), c])\n",
    "\n",
    "            bin_address = format(index, '0{}b'.format(address_bits))\n",
    "            dictionary[wc] = (index, bin_address)\n",
    "\n",
    "            index += 1\n",
    "            w = \"\"\n",
    "        else:\n",
    "            w = wc\n",
    "\n",
    "    # Encode the last phrase if it's not empty\n",
    "    if w:\n",
    "        address_bits = int(np.ceil(np.log2(max(len(dictionary), 1))))\n",
    "        prefix = format(dictionary[w][0], '0{}b'.format(address_bits))\n",
    "        encoded_sequence_list.append([prefix, ''])\n",
    "\n",
    "    encoded_letter = {letter : \"0\"*int(np.ceil(np.log2(len(set(sequence))+1))-len(bin(i+1)[2:])) + bin(i+1)[2:] for i, letter in enumerate(set(sequence))}\n",
    "    encoded_letter[''] =  \"0\"*int(np.ceil(np.log2(len(set(sequence))+1)))\n",
    "    # encoded_sequence = \",\".join([\"0\"*(address_bits-len(e[0])) + e[0] + encoded_letter[e[1]] for e in encoded_sequence_list])\n",
    "    encoded_sequence = \"\".join([\"0\"*(address_bits-len(e[0])) + e[0] + encoded_letter[e[1]] for e in encoded_sequence_list])\n",
    "\n",
    "    return dictionary, encoded_sequence\n",
    "\n",
    "sequence = \"Hello World\"\n",
    "dictionary, encoded_sequence = My_LZ_Online(sequence)\n",
    "print(\"Dictionary:\", dictionary)\n",
    "print(\"Encoded sequence:\", encoded_sequence)"
   ],
   "metadata": {
    "collapsed": false,
    "ExecuteTime": {
     "end_time": "2024-05-07T11:36:00.200838Z",
     "start_time": "2024-05-07T11:36:00.178129Z"
    }
   },
   "id": "8904bac3987c7081"
  },
  {
   "cell_type": "code",
   "execution_count": 14,
   "outputs": [
    {
     "ename": "NameError",
     "evalue": "name 'wigwag' is not defined",
     "output_type": "error",
     "traceback": [
      "\u001B[0;31m---------------------------------------------------------------------------\u001B[0m",
      "\u001B[0;31mNameError\u001B[0m                                 Traceback (most recent call last)",
      "Cell \u001B[0;32mIn[14], line 1\u001B[0m\n\u001B[0;32m----> 1\u001B[0m dictionary, encoded \u001B[38;5;241m=\u001B[39m My_LZ_Online(\u001B[43mwigwag\u001B[49m)\n\u001B[1;32m      3\u001B[0m encoded \u001B[38;5;241m=\u001B[39m \u001B[38;5;124m\"\u001B[39m\u001B[38;5;124m\"\u001B[39m\u001B[38;5;241m.\u001B[39mjoin(encoded\u001B[38;5;241m.\u001B[39msplit(\u001B[38;5;124m\"\u001B[39m\u001B[38;5;124m,\u001B[39m\u001B[38;5;124m\"\u001B[39m))\n\u001B[1;32m      4\u001B[0m \u001B[38;5;66;03m# print(f\"{encoded=}\")\u001B[39;00m\n",
      "\u001B[0;31mNameError\u001B[0m: name 'wigwag' is not defined"
     ]
    }
   ],
   "source": [
    "dictionary, encoded = My_LZ_Online(wigwag)\n",
    "\n",
    "encoded = \"\".join(encoded.split(\",\"))\n",
    "# print(f\"{encoded=}\")\n",
    "print(f\"{len(encoded)=}\")\n",
    "compression_rate = length_wigwag / len(encoded)\n",
    "print(f\"{compression_rate}\")\n"
   ],
   "metadata": {
    "collapsed": false,
    "ExecuteTime": {
     "end_time": "2024-05-07T11:36:13.068864Z",
     "start_time": "2024-05-07T11:36:13.039511Z"
    }
   },
   "id": "c8a7bb20d484ff33"
  },
  {
   "cell_type": "markdown",
   "source": [
    "### Question 9\n",
    "\n",
    "Encode the wigwag code using the LZ77 algorithm with window_size=7. Give the\n",
    "total length of the encoded text and the compression rate."
   ],
   "metadata": {
    "collapsed": false
   },
   "id": "70b8c9eae8e6d9e0"
  },
  {
   "cell_type": "code",
   "execution_count": 16,
   "outputs": [],
   "source": [
    "def My_LZ77(sequence, window_size=7):\n",
    "    \"\"\"\n",
    "    The Lempel-Ziv 77 algorithm given a sequence of symbols and the sliding window size.\n",
    "\n",
    "    Arguments:\n",
    "    ----------\n",
    "    - sequence : Sequence of symbols in the string format\n",
    "    - window_size : sliding window size as an integer\n",
    "\n",
    "    Return:\n",
    "    -------\n",
    "    - encoded_sequence : the encoded sequence in the string format\n",
    "    \"\"\"\n",
    "    encoded_sequence = []\n",
    "    cursor = 0\n",
    "\n",
    "    while cursor < len(sequence):\n",
    "        # Look-ahead buffer\n",
    "        buffer = sequence[cursor:]\n",
    "        window = sequence[max(0, cursor-window_size):cursor]\n",
    "\n",
    "        p = 0\n",
    "        d = 0\n",
    "        c = ''\n",
    "\n",
    "        for length in range(1, len(buffer)+1):\n",
    "            prefix = buffer[:length]\n",
    "            position = window.rfind(prefix)\n",
    "            if  position>= 0:\n",
    "                d = len(window) - position\n",
    "                p = length\n",
    "                c = buffer[length] if length < len(buffer) else ''\n",
    "            else:\n",
    "                break\n",
    "\n",
    "        # If no match found, just take the first character of the buffer\n",
    "        if p == 0 and len(buffer) > 0:\n",
    "            c = buffer[0]\n",
    "\n",
    "        encoded_sequence.append((d, p, c))\n",
    "        shift = p + 1 if p > 0 else 1\n",
    "        cursor += shift\n",
    "\n",
    "    letter_bits = int(np.ceil(np.log2(len(set(sequence))+1)))\n",
    "    encoded_letter = {letter : \"0\"*(letter_bits-len(bin(i+1)[2:])) + bin(i+1)[2:] for i, letter in enumerate(set(sequence))}\n",
    "    encoded_letter[''] =  \"0\"*letter_bits\n",
    "\n",
    "    address_bits = int(np.ceil(np.log2(window_size+1)))\n",
    "    # return \",\".join([\"0\"*(address_bits-len(bin(d)[2:])) + bin(d)[2:] + \"0\"*(address_bits-len(bin(p)[2:])) + bin(p)[2:] + encoded_letter[c] for d, p, c in encoded_sequence])\n",
    "    return \"\".join([\"0\"*(address_bits-len(bin(d)[2:])) + bin(d)[2:] + \"0\"*(address_bits-len(bin(p)[2:])) + bin(p)[2:] + encoded_letter[c] for d, p, c in encoded_sequence])\n",
    "\n",
    "# test_sequence = \"abracadabrad\"\n",
    "# test_window_size = 7\n",
    "# encoded_result = LZ77(test_sequence, test_window_size)\n",
    "# print(f'Encoded result: {encoded_result}')"
   ],
   "metadata": {
    "collapsed": false,
    "ExecuteTime": {
     "end_time": "2024-05-07T11:36:27.746727Z",
     "start_time": "2024-05-07T11:36:27.717344Z"
    }
   },
   "id": "4807f5113600293b"
  },
  {
   "cell_type": "markdown",
   "source": [
    "### Question 10\n",
    "\n",
    "Famous data compression algorithms combine the LZ77 algorithm and the Huffman\n",
    "algorithm. Explain two ways of combining those algorithms and discuss the interest\n",
    "of the possible combinations."
   ],
   "metadata": {
    "collapsed": false
   },
   "id": "cd93ffd2562899f1"
  },
  {
   "cell_type": "markdown",
   "source": [
    "There is two possible combinations. First perform the Huffman algorithm then the LZ77 algorithm or first the LZ77 then the huffman algorithm.\n",
    "\n",
    "**LZ77 followed by Huffman Encoding:** In this approach, the input data is first processed using the LZ77 algorithm to identify repeated substrings. The LZ77 algorithm replaces repeated substrings with references to their previous occurrences, effectively reducing redundancy in the data. This process produces a sequence of literal symbols and references.\n",
    "After applying LZ77, the resulting sequence is then encoded using the Huffman algorithm. Huffman encoding assigns shorter codes to more frequent symbols and longer codes to less frequent symbols, further reducing the overall size of the data.\n",
    "This combination leverages the strengths of both algorithms: LZ77 reduces redundancy by finding repeated substrings, and Huffman encoding efficiently represents the resulting symbols.\n",
    "\n",
    "**Huffman Encoding followed by LZ77:** In this approach, the input data is first encoded using the Huffman algorithm to generate variable-length codes for each symbol based on their frequencies in the input data. This step reduces the overall size of the data by assigning shorter codes to more frequent symbols.\n",
    "After Huffman encoding, the resulting compressed data is processed using the LZ77 algorithm. LZ77 searches for repeated substrings in the compressed data and replaces them with references, further reducing redundancy and achieving additional compression.\n",
    "While this approach may seem less intuitive, it can still be effective, especially when the Huffman-encoded data contains repeated patterns that LZ77 can exploit for additional compression."
   ],
   "metadata": {
    "collapsed": false
   },
   "id": "e81fb6dd91c8f7d8"
  },
  {
   "cell_type": "markdown",
   "source": [
    "### Question 11\n",
    "\n",
    "Encode the wigwag using one of the combinations of LZ77 and Huffman algorithms\n",
    "you proposed in the previous question. Give the total length of the encoded wigwag\n",
    "text and the compression rate."
   ],
   "metadata": {
    "collapsed": false
   },
   "id": "73f40a5a2c95c11b"
  },
  {
   "cell_type": "code",
   "execution_count": 17,
   "outputs": [
    {
     "ename": "NameError",
     "evalue": "name 'wigwag' is not defined",
     "output_type": "error",
     "traceback": [
      "\u001B[0;31m---------------------------------------------------------------------------\u001B[0m",
      "\u001B[0;31mNameError\u001B[0m                                 Traceback (most recent call last)",
      "Cell \u001B[0;32mIn[17], line 33\u001B[0m\n\u001B[1;32m     29\u001B[0m     codewords \u001B[38;5;241m=\u001B[39m Huffman_code(encoded_probas)\n\u001B[1;32m     30\u001B[0m     \u001B[38;5;28;01mreturn\u001B[39;00m \u001B[38;5;124m\"\u001B[39m\u001B[38;5;124m\"\u001B[39m\u001B[38;5;241m.\u001B[39mjoin([codewords[w] \u001B[38;5;28;01mfor\u001B[39;00m w \u001B[38;5;129;01min\u001B[39;00m encoded])\n\u001B[0;32m---> 33\u001B[0m encoded_huff_then_lz77 \u001B[38;5;241m=\u001B[39m Huffman_then_LZ77(\u001B[43mwigwag\u001B[49m)\n\u001B[1;32m     34\u001B[0m encoded_lz77_then_huff \u001B[38;5;241m=\u001B[39m LZ77_then_Huffman(wigwag)\n\u001B[1;32m     36\u001B[0m compression_rate_encoded_huff_then_lz77 \u001B[38;5;241m=\u001B[39m length_wigwag \u001B[38;5;241m/\u001B[39m \u001B[38;5;28mlen\u001B[39m(encoded_huff_then_lz77)\n",
      "\u001B[0;31mNameError\u001B[0m: name 'wigwag' is not defined"
     ]
    }
   ],
   "source": [
    "def Huffman_then_LZ77(sequence, window_size=7):\n",
    "    \"\"\"\n",
    "    Perform the huffman algorithm then the LZ77 algorithm given a sequence of symbols.\n",
    "\n",
    "    Arguments:\n",
    "    - sequence: Sequence of symbols in the string format\n",
    "\n",
    "    Return:\n",
    "    - encoded_sequence: the encoded sequence in the string format\n",
    "    \"\"\"\n",
    "    sequence_probas = {c: sequence.count(c)/len(sequence) for c in set(sequence)}\n",
    "    codewords = Huffman_code(sequence_probas)\n",
    "    encoded = \"\".join([codewords[w] for w in sequence])\n",
    "    return \"\".join(My_LZ77(encoded, window_size).split(\",\"))\n",
    "\n",
    "\n",
    "def LZ77_then_Huffman(sequence, window_size=7):\n",
    "    \"\"\"\n",
    "    Perform the LZ77 algorithm then the huffman algorithm given a sequence of symbols.\n",
    "\n",
    "    Arguments:\n",
    "    - sequence: Sequence of symbols in the string format\n",
    "\n",
    "    Return:\n",
    "    - encoded_sequence: the encoded sequence in the string format\n",
    "    \"\"\"\n",
    "    encoded = \"\".join(My_LZ77(sequence, window_size).split(','))\n",
    "    encoded_probas = {c: encoded.count(c)/len(encoded) for c in set(encoded)}\n",
    "    codewords = Huffman_code(encoded_probas)\n",
    "    return \"\".join([codewords[w] for w in encoded])\n",
    "\n",
    "\n",
    "encoded_huff_then_lz77 = Huffman_then_LZ77(wigwag)\n",
    "encoded_lz77_then_huff = LZ77_then_Huffman(wigwag)\n",
    "\n",
    "compression_rate_encoded_huff_then_lz77 = length_wigwag / len(encoded_huff_then_lz77)\n",
    "compression_rate_encoded_lz77_then_huff = length_wigwag / len(encoded_lz77_then_huff)\n",
    "\n",
    "\n",
    "print(f\"{compression_rate_encoded_huff_then_lz77=}\")\n",
    "print(f\"{compression_rate_encoded_lz77_then_huff=}\")"
   ],
   "metadata": {
    "collapsed": false,
    "ExecuteTime": {
     "end_time": "2024-05-07T11:37:05.550853Z",
     "start_time": "2024-05-07T11:37:05.517990Z"
    }
   },
   "id": "3f65bdc3ee6d6a16"
  },
  {
   "cell_type": "markdown",
   "source": [
    "### Question 12\n",
    "\n",
    "Report the total lengths and compression rates using (a) LZ77 and (b) the\n",
    "combination of LZ77 and Huffman, to encode the wigwag code for different values of\n",
    "the sliding window size (use sliding window sizes from 1 to 11000 with a step of\n",
    "1000). Compare your result with the total length and compression rate obtained using\n",
    "the on-line Lempel-Ziv algorithm. Discuss your results."
   ],
   "metadata": {
    "collapsed": false
   },
   "id": "3a0dcd6b0fad4278"
  },
  {
   "cell_type": "code",
   "execution_count": 18,
   "outputs": [
    {
     "ename": "NameError",
     "evalue": "name 'wigwag' is not defined",
     "output_type": "error",
     "traceback": [
      "\u001B[0;31m---------------------------------------------------------------------------\u001B[0m",
      "\u001B[0;31mNameError\u001B[0m                                 Traceback (most recent call last)",
      "Cell \u001B[0;32mIn[18], line 2\u001B[0m\n\u001B[1;32m      1\u001B[0m \u001B[38;5;28;01mfor\u001B[39;00m window_size \u001B[38;5;129;01min\u001B[39;00m \u001B[38;5;28mrange\u001B[39m(\u001B[38;5;241m0\u001B[39m, \u001B[38;5;241m11000\u001B[39m, \u001B[38;5;241m1000\u001B[39m):\n\u001B[0;32m----> 2\u001B[0m     encoded_lz77 \u001B[38;5;241m=\u001B[39m My_LZ77(\u001B[43mwigwag\u001B[49m, window_size)\n\u001B[1;32m      3\u001B[0m     encoded_huff_then_lz77 \u001B[38;5;241m=\u001B[39m Huffman_then_LZ77(wigwag, window_size)\n\u001B[1;32m      4\u001B[0m     encoded_lz77_then_huff \u001B[38;5;241m=\u001B[39m LZ77_then_Huffman(wigwag, window_size)\n",
      "\u001B[0;31mNameError\u001B[0m: name 'wigwag' is not defined"
     ]
    }
   ],
   "source": [
    "for window_size in range(0, 11000, 1000):\n",
    "    encoded_lz77 = My_LZ77(wigwag, window_size)\n",
    "    encoded_huff_then_lz77 = Huffman_then_LZ77(wigwag, window_size)\n",
    "    encoded_lz77_then_huff = LZ77_then_Huffman(wigwag, window_size)\n",
    "\n",
    "    total_length_encoded_lz77 = len(encoded_lz77)\n",
    "    total_length_encoded_huff_then_lz77 = len(encoded_huff_then_lz77)\n",
    "    total_length_encoded_lz77_then_huff = len(encoded_lz77_then_huff)\n",
    "\n",
    "    compression_rate_encoded_lz77 = length_wigwag / total_length_encoded_lz77\n",
    "    compression_rate_encoded_huff_then_lz77 = length_wigwag / total_length_encoded_huff_then_lz77\n",
    "    compression_rate_encoded_lz77_then_huff = length_wigwag / total_length_encoded_lz77_then_huff\n",
    "\n",
    "    print(f\"Window Size : {window_size}\")\n",
    "    print(f\"\\t{total_length_encoded_lz77=}\")\n",
    "    print(f\"\\t{total_length_encoded_huff_then_lz77=}\")\n",
    "    print(f\"\\t{total_length_encoded_lz77_then_huff}\")\n",
    "    print(f\"\\t{compression_rate_encoded_lz77=}\")\n",
    "    print(f\"\\t{compression_rate_encoded_huff_then_lz77=}\")\n",
    "    print(f\"\\t{compression_rate_encoded_lz77_then_huff=}\")\n",
    "\n",
    "My_LZ_Online(wigwag)\n",
    "\n",
    "encoded_lz = My_LZ_Online(wigwag)[1]\n",
    "total_length_encoded_lz = len(encoded_lz)\n",
    "compression_rate_encoded_lz = length_wigwag / total_length_encoded_lz\n",
    "print(\"To compare :\")\n",
    "print(f\"{total_length_encoded_lz=}\")\n",
    "print(f\"{compression_rate_encoded_lz=}\")"
   ],
   "metadata": {
    "collapsed": false,
    "ExecuteTime": {
     "end_time": "2024-05-07T11:37:30.044602Z",
     "start_time": "2024-05-07T11:37:30.017316Z"
    }
   },
   "id": "6ffb720b85846627"
  },
  {
   "cell_type": "markdown",
   "source": [
    "### Question 13\n",
    "\n",
    "It is typically assumed that repetitions occur at long distances in a text. Based on\n",
    "your results in the previous question(s), discuss what could be the best data\n",
    "compression algorithm(s) and/or how to adapt the algorithms used in this project."
   ],
   "metadata": {
    "collapsed": false
   },
   "id": "681af71f76ed1b12"
  },
  {
   "cell_type": "markdown",
   "source": [
    "\n",
    "### Question 14\n",
    "\n",
    "Instead of encoding the wigwag code, encode directly the original text (27 symbols)\n",
    "with the binary Huffman algorithm. Give the code for each symbol, the average\n",
    "expected length, the experimental length of the encoded text and the compression\n",
    "rate."
   ],
   "metadata": {
    "collapsed": false
   },
   "id": "cbb878173a70bd11"
  },
  {
   "cell_type": "code",
   "execution_count": 19,
   "outputs": [
    {
     "ename": "FileNotFoundError",
     "evalue": "[Errno 2] No such file or directory: 'text.txt'",
     "output_type": "error",
     "traceback": [
      "\u001B[0;31m---------------------------------------------------------------------------\u001B[0m",
      "\u001B[0;31mFileNotFoundError\u001B[0m                         Traceback (most recent call last)",
      "Cell \u001B[0;32mIn[19], line 1\u001B[0m\n\u001B[0;32m----> 1\u001B[0m \u001B[38;5;28;01mwith\u001B[39;00m \u001B[38;5;28;43mopen\u001B[39;49m\u001B[43m(\u001B[49m\u001B[38;5;124;43m\"\u001B[39;49m\u001B[38;5;124;43mtext.txt\u001B[39;49m\u001B[38;5;124;43m\"\u001B[39;49m\u001B[43m)\u001B[49m \u001B[38;5;28;01mas\u001B[39;00m file:\n\u001B[1;32m      2\u001B[0m     text \u001B[38;5;241m=\u001B[39m file\u001B[38;5;241m.\u001B[39mreadline()\n\u001B[1;32m      4\u001B[0m text_probas \u001B[38;5;241m=\u001B[39m {c: text\u001B[38;5;241m.\u001B[39mcount(c)\u001B[38;5;241m/\u001B[39m\u001B[38;5;28mlen\u001B[39m(text) \u001B[38;5;28;01mfor\u001B[39;00m c \u001B[38;5;129;01min\u001B[39;00m \u001B[38;5;28mset\u001B[39m(text)}\n",
      "File \u001B[0;32m/usr/local/lib/python3.11/site-packages/IPython/core/interactiveshell.py:286\u001B[0m, in \u001B[0;36m_modified_open\u001B[0;34m(file, *args, **kwargs)\u001B[0m\n\u001B[1;32m    279\u001B[0m \u001B[38;5;28;01mif\u001B[39;00m file \u001B[38;5;129;01min\u001B[39;00m {\u001B[38;5;241m0\u001B[39m, \u001B[38;5;241m1\u001B[39m, \u001B[38;5;241m2\u001B[39m}:\n\u001B[1;32m    280\u001B[0m     \u001B[38;5;28;01mraise\u001B[39;00m \u001B[38;5;167;01mValueError\u001B[39;00m(\n\u001B[1;32m    281\u001B[0m         \u001B[38;5;124mf\u001B[39m\u001B[38;5;124m\"\u001B[39m\u001B[38;5;124mIPython won\u001B[39m\u001B[38;5;124m'\u001B[39m\u001B[38;5;124mt let you open fd=\u001B[39m\u001B[38;5;132;01m{\u001B[39;00mfile\u001B[38;5;132;01m}\u001B[39;00m\u001B[38;5;124m by default \u001B[39m\u001B[38;5;124m\"\u001B[39m\n\u001B[1;32m    282\u001B[0m         \u001B[38;5;124m\"\u001B[39m\u001B[38;5;124mas it is likely to crash IPython. If you know what you are doing, \u001B[39m\u001B[38;5;124m\"\u001B[39m\n\u001B[1;32m    283\u001B[0m         \u001B[38;5;124m\"\u001B[39m\u001B[38;5;124myou can use builtins\u001B[39m\u001B[38;5;124m'\u001B[39m\u001B[38;5;124m open.\u001B[39m\u001B[38;5;124m\"\u001B[39m\n\u001B[1;32m    284\u001B[0m     )\n\u001B[0;32m--> 286\u001B[0m \u001B[38;5;28;01mreturn\u001B[39;00m \u001B[43mio_open\u001B[49m\u001B[43m(\u001B[49m\u001B[43mfile\u001B[49m\u001B[43m,\u001B[49m\u001B[43m \u001B[49m\u001B[38;5;241;43m*\u001B[39;49m\u001B[43margs\u001B[49m\u001B[43m,\u001B[49m\u001B[43m \u001B[49m\u001B[38;5;241;43m*\u001B[39;49m\u001B[38;5;241;43m*\u001B[39;49m\u001B[43mkwargs\u001B[49m\u001B[43m)\u001B[49m\n",
      "\u001B[0;31mFileNotFoundError\u001B[0m: [Errno 2] No such file or directory: 'text.txt'"
     ]
    }
   ],
   "source": [
    "with open(\"text.txt\") as file:\n",
    "    text = file.readline()\n",
    "\n",
    "text_probas = {c: text.count(c)/len(text) for c in set(text)}\n",
    "\n",
    "Huffman_text = Huffman_code(text_probas)\n",
    "encoded_text = \"\".join([Huffman_text[w] for w in text])\n",
    "print(Huffman_text)\n",
    "average_expected_length = sum([p*len(Huffman_text[c]) for c, p in text_probas.items()])\n",
    "print(f\"{average_expected_length=}\")\n",
    "print(f\"{len(encoded_text)=}\")\n",
    "print(f\"Compression rate : {len(text)*np.log2(len(set(text)))/len(encoded_text)}\")"
   ],
   "metadata": {
    "collapsed": false,
    "ExecuteTime": {
     "end_time": "2024-05-07T11:37:59.826255Z",
     "start_time": "2024-05-07T11:37:59.781640Z"
    }
   },
   "id": "b6b22861bc80508b"
  },
  {
   "cell_type": "markdown",
   "source": [
    "\n",
    "### Question 15\n",
    "\n",
    "Compare the values found at the previous question with the ones found in Question 5. In particular, is it better to first encode the text with wigwag code before the\n",
    "Huffman encoding or to directly encode the text with Huffman? Discuss."
   ],
   "metadata": {
    "collapsed": false
   },
   "id": "aa34cecbef933ab4"
  },
  {
   "cell_type": "markdown",
   "source": [
    "The compression rate is better when not using wigwag in the first place."
   ],
   "metadata": {
    "collapsed": false
   },
   "id": "829ef627de8f2506"
  },
  {
   "cell_type": "markdown",
   "source": [
    "## Channel coding\n"
   ],
   "metadata": {
    "collapsed": false
   },
   "id": "b6bb7609b5263ad4"
  },
  {
   "cell_type": "markdown",
   "source": [
    " (text answers in report)\n"
   ],
   "metadata": {
    "collapsed": false
   },
   "id": "9b6e597a15d98948"
  },
  {
   "cell_type": "markdown",
   "source": [
    "## 16. \n",
    "Give the plot of the audio signal and listen to it."
   ],
   "metadata": {
    "collapsed": false
   },
   "id": "67d28f3d1319edb8"
  },
  {
   "cell_type": "code",
   "execution_count": 20,
   "outputs": [
    {
     "data": {
      "text/plain": "<Figure size 1000x400 with 1 Axes>",
      "image/png": "[encoded data removed]"
     },
     "metadata": {},
     "output_type": "display_data"
    }
   ],
   "source": [
    "from scipy.io import wavfile\n",
    "import matplotlib.pyplot as plt\n",
    "file_path = \"./why.wav\"\n",
    "sampling_rate, audio_signal = wavfile.read(file_path)\n",
    "plt.figure(figsize=(10, 4))\n",
    "plt.plot(audio_signal)\n",
    "plt.title('Audio Signal')\n",
    "plt.xlabel('Sample Index')\n",
    "plt.ylabel('Amplitude')\n",
    "plt.show()"
   ],
   "metadata": {
    "collapsed": false,
    "ExecuteTime": {
     "end_time": "2024-05-07T11:38:52.053641Z",
     "start_time": "2024-05-07T11:38:51.355586Z"
    }
   },
   "id": "8e3d1d8658f869ed"
  },
  {
   "cell_type": "markdown",
   "source": [
    "## 17. \n",
    "Encode the audio signal using the binary ASCII fixed-length binary code. What is the appropriate number of bits? Justify."
   ],
   "metadata": {
    "collapsed": false
   },
   "id": "4e8a6b5cfbaab0ef"
  },
  {
   "cell_type": "code",
   "execution_count": 21,
   "outputs": [
    {
     "name": "stdout",
     "output_type": "stream",
     "text": [
      "['10001001', '10001001', '10001011', '10001101', '10001101', '10001101', '10001101', '10001011', '10001011', '10001011']\n"
     ]
    }
   ],
   "source": [
    "quantized_signal = np.interp(audio_signal, (audio_signal.min(), audio_signal.max()), (0, 255))\n",
    "quantized_signal_int = np.round(quantized_signal).astype(np.uint8)\n",
    "binary_ascii_encoded = [format(sample,\n",
    "                               '08b') for sample in quantized_signal_int]\n",
    "print(binary_ascii_encoded[:10])"
   ],
   "metadata": {
    "collapsed": false,
    "ExecuteTime": {
     "end_time": "2024-05-07T11:39:10.047844Z",
     "start_time": "2024-05-07T11:39:09.974741Z"
    }
   },
   "id": "b063c68a1b921c0e"
  },
  {
   "cell_type": "markdown",
   "source": [
    "## 18. \n",
    "Simulate the channel effect on the binary audio signal. Then decode the audio signal.\n",
    "Plot and play the decoded audio signal. What do you notice?"
   ],
   "metadata": {
    "collapsed": false
   },
   "id": "6edce46761790b0f"
  },
  {
   "cell_type": "code",
   "execution_count": 22,
   "outputs": [
    {
     "data": {
      "text/plain": "<Figure size 1000x400 with 1 Axes>",
      "image/png": "[encoded data removed]"
     },
     "metadata": {},
     "output_type": "display_data"
    }
   ],
   "source": [
    "p_error = 0.01\n",
    "fs = 16000\n",
    "\n",
    "def simulate_bsc(encoded_signal, p_error):\n",
    "    \"\"\"\n",
    "    Simulates the process of a binary symmetric channel with probability p_error of error\n",
    "\n",
    "    Arguments:\n",
    "    ----------\n",
    "    encoded_signal:A string containing the message\n",
    "    p_error: number between 0 and 1 representing the probability of error\n",
    "\n",
    "    Returns:\n",
    "    ----------\n",
    "   A string representing the message after passing through the binary symmetric channel\n",
    "    \"\"\"\n",
    "    channel_output = []\n",
    "    for bit_string in encoded_signal:\n",
    "        flipped_bits = ''.join(['1' if (bit == '0' and np.random.rand() < p_error) else '0' if (bit == '1' and np.random.rand() < p_error) else bit for bit in bit_string])\n",
    "        channel_output.append(flipped_bits)\n",
    "    return channel_output\n",
    "\n",
    "channel_affected_signal = simulate_bsc(binary_ascii_encoded, p_error)\n",
    "channel_affected_signal_int = np.array([int(bits, 2) for bits in channel_affected_signal], dtype=np.uint8)\n",
    "decoded_audio_signal_interp = np.interp(channel_affected_signal_int, (0, 255), (audio_signal.min(), audio_signal.max()))\n",
    "decoded_audio_signal = np.round(decoded_audio_signal_interp).astype(np.uint8)\n",
    "\n",
    "plt.figure(figsize=(10, 4))\n",
    "plt.plot(decoded_audio_signal)\n",
    "plt.plot(audio_signal)\n",
    "plt.title('Decoded Audio Signal after Channel Effect')\n",
    "plt.xlabel('Sample Index')\n",
    "plt.ylabel('Amplitude')\n",
    "plt.show()\n",
    "\n",
    "wavfile.write('decoded_audio.wav', fs,decoded_audio_signal.astype(np.float32))"
   ],
   "metadata": {
    "collapsed": false,
    "ExecuteTime": {
     "end_time": "2024-05-07T11:39:27.386254Z",
     "start_time": "2024-05-07T11:39:25.969440Z"
    }
   },
   "id": "ce44e1a7b178fbc8"
  },
  {
   "cell_type": "markdown",
   "source": [
    "## 19. \n",
    "Instead of sending directly through the channel the binary audio signal, you will first\n",
    "introduce some redundancy. To do that, implement a function that returns the\n",
    "Hamming (7,4) code for a given sequence of binary symbols. Then, using your\n",
    "function, encode the binary audio signal (from question 16)."
   ],
   "metadata": {
    "collapsed": false
   },
   "id": "f153c2adc6f4276b"
  },
  {
   "cell_type": "code",
   "execution_count": 23,
   "outputs": [],
   "source": [
    "def hamming_7_4(binary_sequence):\n",
    "    \"\"\"\n",
    "    Encodes a sequence of 4-bit binary symbols using the Hamming (7,4) code.\n",
    "    \n",
    "    Arguments:\n",
    "    ----------\n",
    "    binary_sequence: A list of strings, where each string is a 4-bit binary symbol.\n",
    "    \n",
    "    Returns:\n",
    "    ----------\n",
    "    A list of strings, where each string is a 7-bit encoded binary symbol using the Hamming (7,4) code.\n",
    "    \"\"\"\n",
    "    G= np.array([[1, 1, 0, 1],\n",
    "                            [1, 0, 1, 1],\n",
    "                            [1, 0, 0, 0],\n",
    "                            [0, 1, 1, 1],\n",
    "                            [0, 1, 0, 0],\n",
    "                            [0, 0, 1, 0],\n",
    "                            [0, 0, 0, 1]]) # We decided to implement this generator matrix\n",
    "    \n",
    "    encoded_sequence = []\n",
    "    for symbol in binary_sequence:\n",
    "        symbol_bits = np.array(list(symbol), dtype=int)\n",
    "        encoded_symbol = np.dot(G, symbol_bits) % 2\n",
    "        encoded_sequence.append(''.join(str(bit) for bit in encoded_symbol))\n",
    "    return encoded_sequence\n",
    "\n",
    "def encode_hamming74(binary_sequence_8bit):\n",
    "    \"\"\"\n",
    "    Encodes 8-bit binary sequences using Hamming (7,4) code by splitting each 8-bit sequence\n",
    "    into two 4-bit sequences, encoding each with Hamming (7,4), and then concatenating the results.\n",
    "    \n",
    "    Arguments:\n",
    "    ----------\n",
    "    binary_sequence_8bit: A list of strings, where each string is an 8-bit binary sequence.\n",
    "    \n",
    "    Returns:\n",
    "    ----------\n",
    "    A list of strings, where each string is a 14-bit sequence resulting from encoding the original 8 bits.\n",
    "    \"\"\"\n",
    "    encoded_sequences = []\n",
    "    \n",
    "    for sequence in binary_sequence_8bit:\n",
    "        first_half, second_half = sequence[:4], sequence[4:]\n",
    "        \n",
    "        encoded_first_half = hamming_7_4([first_half])[0]\n",
    "        encoded_second_half = hamming_7_4([second_half])[0]\n",
    "        \n",
    "        encoded_sequence = encoded_first_half + encoded_second_half\n",
    "        encoded_sequences.append(encoded_sequence)\n",
    "    \n",
    "    return encoded_sequences\n",
    "\n",
    "encoded_sample_red = encode_hamming74(binary_ascii_encoded)\n"
   ],
   "metadata": {
    "collapsed": false,
    "ExecuteTime": {
     "end_time": "2024-05-07T11:39:47.764063Z",
     "start_time": "2024-05-07T11:39:42.298658Z"
    }
   },
   "id": "1c99412d30804416"
  },
  {
   "cell_type": "code",
   "execution_count": 24,
   "outputs": [
    {
     "name": "stdout",
     "output_type": "stream",
     "text": [
      "['11100000011001', '11100000011001', '11100000110011', '11100001010101', '11100001010101', '11100001010101', '11100001010101', '11100000110011', '11100000110011', '11100000110011']\n"
     ]
    }
   ],
   "source": [
    "print(encoded_sample_red[:10])"
   ],
   "metadata": {
    "collapsed": false,
    "ExecuteTime": {
     "end_time": "2024-05-07T11:39:49.320553Z",
     "start_time": "2024-05-07T11:39:49.284714Z"
    }
   },
   "id": "44f45c59c1b9b10e"
  },
  {
   "cell_type": "markdown",
   "source": [
    "## 20. \n",
    "Simulate the channel effect on the binary audio signal with redundancy. Then decode\n",
    "the binary audio signal. Listen to it and display the decoded audio signal. What do\n",
    "you notice? Explain your decoding procedure."
   ],
   "metadata": {
    "collapsed": false
   },
   "id": "7eed670071dce790"
  },
  {
   "cell_type": "code",
   "execution_count": 25,
   "outputs": [],
   "source": [
    "def hamming_7_4_decode(encoded_signal):\n",
    "    \"\"\"\n",
    "    Decode and correct errors in a sequence of 7-bit binary symbols using the Hamming (7,4) code.\n",
    "    \n",
    "    Arguments:\n",
    "    ----------\n",
    "    encoded_signal: A list of strings, where each string is a 7-bit encoded binary symbol.\n",
    "    \n",
    "    Returns:\n",
    "    ----------\n",
    "    A list of strings, where each string is a 4-bit decoded binary symbol.\n",
    "    \"\"\"\n",
    "    H = np.array([[1, 0, 1, 0, 1, 0, 1], # syndrome matrix based on previous matrix G\n",
    "                  [0, 1, 1, 0, 0, 1, 1],\n",
    "                  [0, 0, 0, 1, 1, 1, 1]])\n",
    "    \n",
    "    decoded_sequence = []\n",
    "    for encoded_symbol in encoded_signal:\n",
    "        symbol_bits = np.array(list(encoded_symbol), dtype=int)\n",
    "\n",
    "        syndrome = np.dot(H, symbol_bits) % 2\n",
    "        syndrome_value = syndrome.dot(1 << np.arange(syndrome.shape[-1] - 1, -1, -1))\n",
    "        \n",
    "        if syndrome_value > 0:\n",
    "            symbol_bits[syndrome_value-1] ^= 1 \n",
    "\n",
    "        decoded_bits = symbol_bits[[2, 4, 5, 6]]\n",
    "        decoded_sequence.append(''.join(str(bit) for bit in decoded_bits))\n",
    "        \n",
    "    return decoded_sequence\n",
    "\n",
    "def decode_and_correct_hamming(encoded_signal_14bit):\n",
    "    \"\"\"\n",
    "    Decode and correct errors for 14-bit sequences that were encoded using Hamming (7,4). Uses the previously defined function.\n",
    "    \n",
    "    Arguments:\n",
    "    ----------\n",
    "    encoded_signal_14bit: A list of 14-bit strings encoded with Hamming (7,4).\n",
    "    \n",
    "    Returns:\n",
    "    A list of 8-bit binary strings decoded and corrected from the input signal.\n",
    "    \"\"\"\n",
    "    decoded_sequences = []\n",
    "    for sequence in encoded_signal_14bit:\n",
    "        first_half = sequence[:7]\n",
    "        second_half = sequence[7:]\n",
    "        decoded_first_half = hamming_7_4_decode([first_half])[0]\n",
    "        decoded_second_half = hamming_7_4_decode([second_half])[0]\n",
    "        decoded_sequence = decoded_first_half + decoded_second_half\n",
    "        decoded_sequences.append(decoded_sequence)\n",
    "        \n",
    "    return decoded_sequences\n",
    "\n",
    "channel_affected_signal_red = simulate_bsc(encoded_sample_red, p_error)\n",
    "\n",
    "decoded_hamming_signal_14bit = decode_and_correct_hamming(channel_affected_signal_red)\n",
    "decoded_audio_samples = np.array([int(bits, 2) for bits in decoded_hamming_signal_14bit])\n",
    "decoded_audio_red = np.interp(decoded_audio_samples, (0, 255), (audio_signal.min(), audio_signal.max()))\n",
    "decoded_audio_red = np.round(decoded_audio_red).astype(np.uint8)\n"
   ],
   "metadata": {
    "collapsed": false,
    "ExecuteTime": {
     "end_time": "2024-05-07T11:40:10.282804Z",
     "start_time": "2024-05-07T11:40:01.809805Z"
    }
   },
   "id": "1379988ae749bc72"
  },
  {
   "cell_type": "code",
   "execution_count": 26,
   "outputs": [
    {
     "data": {
      "text/plain": "<Figure size 1000x400 with 1 Axes>",
      "image/png": "[encoded data removed]"
     },
     "metadata": {},
     "output_type": "display_data"
    }
   ],
   "source": [
    "plt.figure(figsize=(10, 4))\n",
    "plt.plot(decoded_audio_signal)\n",
    "plt.plot(decoded_audio_red)\n",
    "plt.plot(audio_signal)\n",
    "\n",
    "plt.title('Corrected Decoded Audio Signal after Channel Effect with Hamming Encoding')\n",
    "plt.xlabel('Sample Index')\n",
    "plt.ylabel('Amplitude')\n",
    "plt.show()\n",
    "\n",
    "wavfile.write('decoded_audio_red.wav', fs,decoded_audio_red.astype(np.float32))"
   ],
   "metadata": {
    "collapsed": false,
    "ExecuteTime": {
     "end_time": "2024-05-07T11:40:10.864744Z",
     "start_time": "2024-05-07T11:40:10.298061Z"
    }
   },
   "id": "dd7a0f74bd9f8ac0"
  },
  {
   "cell_type": "code",
   "execution_count": null,
   "outputs": [],
   "source": [],
   "metadata": {
    "collapsed": false
   },
   "id": "12e99e69dcc16ddf"
  }
 ],
 "metadata": {
  "kernelspec": {
   "display_name": "Python 3",
   "language": "python",
   "name": "python3"
  },
  "language_info": {
   "codemirror_mode": {
    "name": "ipython",
    "version": 2
   },
   "file_extension": ".py",
   "mimetype": "text/x-python",
   "name": "python",
   "nbconvert_exporter": "python",
   "pygments_lexer": "ipython2",
   "version": "2.7.6"
  }
 },
 "nbformat": 4,
 "nbformat_minor": 5
}

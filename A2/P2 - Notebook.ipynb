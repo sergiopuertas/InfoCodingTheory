{
 "cells": [
  {
   "cell_type": "markdown",
   "metadata": {
    "deletable": false,
    "editable": false,
    "id": "j7kUOJkq0GUo"
   },
   "source": [
    "# Project 2 - Source coding, data compression and channel coding\n",
    "\n",
    "The goal of this second project is to apply some of the principles seen in the lectures about source coding, data compression and channel coding. We ask you to write a brief report (pdf format) collecting your answers to the different questions. All codes must be written in Python inside this Jupyter. Note that you can not change the content of locked cells or import any extra Python library than the ones already imported (numpy)."
   ]
  },
  {
   "cell_type": "markdown",
   "metadata": {
    "deletable": false,
    "editable": false,
    "id": "Ztp8uLg40GUt"
   },
   "source": [
    "## Implementation\n",
    "\n",
    "In this project, you will need to use implement source coding algorithms to answer several questions. Therefore, in this first part, you are asked to write several functions that implement two of the  algorithms seen in the theoretical lectures and one new algorithm described in the project statement. Remember that you need to fill in this Jupyter Notebook to answer these questions. Pay particular attention to the required input and output format of each function."
   ]
  },
  {
   "cell_type": "code",
   "execution_count": 3,
   "metadata": {
    "deletable": false,
    "editable": false,
    "id": "Hj-l1-GY0GUu",
    "ExecuteTime": {
     "end_time": "2024-05-07T10:44:34.596085Z",
     "start_time": "2024-05-07T10:44:29.390864Z"
    }
   },
   "outputs": [],
   "source": [
    "# [Locked Cell] You can not import any extra Python library in this Notebook.\n",
    "import numpy as np"
   ]
  },
  {
   "cell_type": "markdown",
   "metadata": {
    "deletable": false,
    "editable": false,
    "id": "B8U7YQaO0GUv"
   },
   "source": [
    "### Question 1\n",
    "Implement a function that returns a binary Huffman code for a given probability distribution. Give the main steps of your implementation. Verify your code on Exercise 7 of the second exercise session (TP2), and report the output of your code for this example. Explain how to extend your function to generate a Huffman code of any (output) alphabet size. \n"
   ]
  },
  {
   "cell_type": "code",
   "execution_count": 6,
   "metadata": {
    "id": "Ale82t7g0GUw",
    "ExecuteTime": {
     "end_time": "2024-05-07T09:43:37.610979Z",
     "start_time": "2024-05-07T09:43:37.606678Z"
    }
   },
   "outputs": [
    {
     "data": {
      "text/plain": "{'A': '000', 'B': '001', 'E': '01', 'C': '100', 'D': '101', 'F': '11'}"
     },
     "execution_count": 6,
     "metadata": {},
     "output_type": "execute_result"
    }
   ],
   "source": [
    "class Node:\n",
    "    def __init__(self, symbol, prob):\n",
    "        self.symbol = symbol\n",
    "        self.prob = prob\n",
    "        self.left = None\n",
    "        self.right = None\n",
    "        self.code = ''\n",
    "\n",
    "def Huffman_code(probability_dict):\n",
    "    \"\"\"\n",
    "    Create the Huffman code for given probabilities.\n",
    "    \n",
    "    Arguments:\n",
    "    ----------\n",
    "    probability_dict: A dictionary where keys are symbols (characters or strings)\n",
    "                      and values are the probability of the symbol as a float or double.\n",
    "    \n",
    "    Returns:\n",
    "    ----------    \n",
    "    codewords: A dictionary with the name and the corresponding codeword.\n",
    "               Keys are symbols (characters or strings) and values are associated\n",
    "               codeword as a character or a string.\n",
    "    \"\"\"\n",
    "    nodes = [Node(symbol, prob) for symbol, prob in probability_dict.items()]\n",
    "    while len(nodes) > 1:\n",
    "\n",
    "        nodes.sort(key=lambda node: node.prob)\n",
    "        \n",
    "        # Nodes with fewer probs\n",
    "        left = nodes.pop(0)\n",
    "        right = nodes.pop(0)\n",
    "\n",
    "        new_node = Node(None, left.prob + right.prob)\n",
    "        new_node.left = left\n",
    "        new_node.right = right\n",
    "\n",
    "        nodes.append(new_node)\n",
    "\n",
    "    root = nodes[0]\n",
    "    codeword_dict = assign_codes(root)\n",
    "\n",
    "    return codeword_dict\n",
    "\n",
    "# Recursive function to assign codes to leaves\n",
    "def assign_codes(node, prefix=''):\n",
    "    if node.symbol is not None:\n",
    "        return {node.symbol: prefix}        \n",
    "    else:\n",
    "        codes = {}            \n",
    "        codes.update(assign_codes(node.left, prefix + '0'))\n",
    "        codes.update(assign_codes(node.right, prefix + '1'))\n",
    "        return codes    \n",
    "\n",
    "probability_dict = {\"A\": 0.05, \"B\": 0.10, \"C\": 0.15, \"D\": 0.15, \"E\": 0.2, \"F\": 0.35} \n",
    "Huffman_code(probability_dict)\n",
    " "
   ]
  },
  {
   "cell_type": "markdown",
   "metadata": {
    "deletable": false,
    "editable": false,
    "id": "_KjzF5nZ0GUw",
    "ExecuteTime": {
     "end_time": "2024-05-07T10:44:34.596446Z",
     "start_time": "2024-05-07T10:44:29.570011Z"
    }
   },
   "source": [
    "### Question 2\n",
    "\n",
    "Given a sequence of symbols, implement a function that returns a dictionary and the encoded sequence using the on-line Lempel-Ziv algorithm (see State of the art in data compression, slide 50/53). Reproduce and report the example given in the course. "
   ]
  },
  {
   "cell_type": "code",
   "execution_count": 7,
   "outputs": [
    {
     "name": "stdout",
     "output_type": "stream",
     "text": [
      "dictionary: {'': (0, '0'), '1': (1, '1'), '0': (2, '10'), '11': (3, '11'), '01': (4, '100'), '010': (5, '101'), '00': (6, '110'), '10': (7, '111')}\n",
      "encoded sequence: 100110100010001\n"
     ]
    }
   ],
   "source": [
    "def LZ_online(sequence):\n",
    "    \"\"\"\n",
    "    The on-line Lempel-Ziv algorithm given a sequence of symbols.\n",
    "    \n",
    "    Arguments:\n",
    "    ----------    \n",
    "    - sequence: Sequence of symbols in the string format\n",
    "\n",
    "    Return:\n",
    "    ----------\n",
    "    - dictionary: the computed dictionary in the form:\n",
    "      keys: symbol as character or string\n",
    "      values: associated codeword as a tuple (integer) and a binarized address with one appended symbol (character or string)\n",
    "      Example: {'0': (0, ''), '1': (1, '0'), '10': (2, '01'), '00': (3, '010')}\n",
    "    \n",
    "    - encoded_sequence: the encoded sequence in the string format\n",
    "    \"\"\"\n",
    "    dictionary = {'': (0, '0')}\n",
    "    encoded_sequence = \"\"\n",
    "    w = \"\"\n",
    "    # The first entry is special, handle it separately\n",
    "    if sequence[0] == '1':\n",
    "        dictionary['1'] = (1, '1')\n",
    "        encoded_sequence += \"1\"\n",
    "        index = 2  \n",
    "    else:\n",
    "        dictionary['0'] = (1, '0')\n",
    "        encoded_sequence += \"0\"\n",
    "        index = 2 \n",
    "        \n",
    "    for c in sequence[1:]:\n",
    "        wc = w + c\n",
    "        if wc not in dictionary:\n",
    "            address_bits = int(np.ceil(np.log2(len(dictionary))))\n",
    "            prefix = format(dictionary[w][0], '0{}b'.format(address_bits)) \n",
    "            encoded_sequence += prefix\n",
    "            \n",
    "            bin_address = format(index, '0{}b'.format(address_bits))\n",
    "            dictionary[wc] = (index, bin_address) \n",
    "            \n",
    "            index += 1\n",
    "            w = \"\"\n",
    "        else:\n",
    "            w = wc\n",
    "            \n",
    "    # Encode the last phrase if it's not empty\n",
    "    if w:\n",
    "        address_bits = int(np.ceil(np.log2(max(len(dictionary), 1))))\n",
    "        prefix = format(dictionary[w][0], '0{}b'.format(address_bits))\n",
    "        encoded_sequence += prefix\n",
    "    \n",
    "    return dictionary, encoded_sequence\n",
    "\n",
    "sequence = \"1011010100010\"\n",
    "dictionary, encoded_sequence = LZ_online(sequence)\n",
    "print(f'dictionary: {dictionary}')\n",
    "print(f'encoded sequence: {encoded_sequence}')\n"
   ],
   "metadata": {
    "collapsed": false,
    "ExecuteTime": {
     "end_time": "2024-05-07T09:43:38.318554Z",
     "start_time": "2024-05-07T09:43:38.297598Z"
    }
   }
  },
  {
   "cell_type": "markdown",
   "metadata": {
    "deletable": false,
    "editable": false,
    "id": "UG7cwbf50GUx",
    "ExecuteTime": {
     "end_time": "2024-05-07T10:44:34.596656Z",
     "start_time": "2024-05-07T10:44:29.587079Z"
    }
   },
   "source": [
    "### Question 4\n",
    "\n",
    "Implement a function that returns the encoded sequence using the LZ77 algorithm as described by the algorithm below given an input string and a sliding window size l. Reproduce the example given in Figure 2 with window_size=7."
   ]
  },
  {
   "cell_type": "code",
   "execution_count": 8,
   "outputs": [
    {
     "name": "stdout",
     "output_type": "stream",
     "text": [
      "Encoded result: 00a00b00r31c21d74d\n"
     ]
    }
   ],
   "source": [
    "def LZ77(sequence, window_size=7):\n",
    "    \"\"\"\n",
    "    The Lempel-Ziv 77 algorithm given a sequence of symbols and the sliding window size.\n",
    "    \n",
    "    Arguments:\n",
    "    ----------\n",
    "    - sequence : Sequence of symbols in the string format\n",
    "    - window_size : sliding window size as an integer\n",
    "    \n",
    "    Return:\n",
    "    -------\n",
    "    - encoded_sequence : the encoded sequence in the string format\n",
    "    \"\"\"\n",
    "    encoded_sequence = []\n",
    "    cursor = 0\n",
    "\n",
    "    while cursor < len(sequence):\n",
    "        # Look-ahead buffer\n",
    "        buffer = sequence[cursor:]\n",
    "        window = sequence[max(0, cursor-window_size):cursor]\n",
    "\n",
    "        p = 0\n",
    "        d = 0\n",
    "        c = ''\n",
    "        \n",
    "        for length in range(1, len(buffer)+1):\n",
    "            prefix = buffer[:length]\n",
    "            position = window.rfind(prefix)\n",
    "            if  position>= 0:\n",
    "                d = len(window) - position\n",
    "                p = length\n",
    "                c = buffer[length] if length < len(buffer) else ''\n",
    "            else:\n",
    "                break\n",
    "             \n",
    "        # If no match found, just take the first character of the buffer\n",
    "        if p == 0 and len(buffer) > 0:\n",
    "            c = buffer[0]\n",
    "        \n",
    "        encoded_sequence.append((d, p, c))\n",
    "        shift = p + 1 if p > 0 else 1\n",
    "        cursor += shift\n",
    "    \n",
    "    encoded_sequence_str = ''.join(['{}{}{}'.format(d, p, c) for d, p, c in encoded_sequence])\n",
    "    \n",
    "    return encoded_sequence_str\n",
    "\n",
    "test_sequence = \"abracadabrad\"\n",
    "test_window_size = 7\n",
    "encoded_result = LZ77(test_sequence, test_window_size)\n",
    "print(f'Encoded result: {encoded_result}')"
   ],
   "metadata": {
    "collapsed": false,
    "ExecuteTime": {
     "end_time": "2024-05-07T09:43:38.965292Z",
     "start_time": "2024-05-07T09:43:38.865176Z"
    }
   }
  },
  {
   "cell_type": "code",
   "execution_count": 6,
   "metadata": {
    "deletable": false,
    "editable": false,
    "id": "EG1vVgUg0GUz",
    "ExecuteTime": {
     "end_time": "2024-05-07T10:44:34.597019Z",
     "start_time": "2024-05-07T10:44:29.595346Z"
    }
   },
   "outputs": [
    {
     "name": "stdout",
     "output_type": "stream",
     "text": [
      "Encoded result: 00a00b00r31c21d74d\n"
     ]
    }
   ],
   "source": [
    "# [Locked Cell] Evaluation of your functions by the examiner. \n",
    "# You don't have access to the evaluation, this will be done by the examiner.\n",
    "# Therefore, this cell will return nothing for the students.\n",
    "import os\n",
    "if os.path.isfile(\"private_evaluation.py\"):\n",
    "    from private_evaluation import unit_tests\n",
    "    unit_tests(Huffman_code, LZ_online, LZ77)"
   ]
  },
  {
   "cell_type": "markdown",
   "metadata": {
    "deletable": false,
    "editable": false,
    "id": "znaBCYTG0GU0",
    "ExecuteTime": {
     "end_time": "2024-05-07T10:44:34.597196Z",
     "start_time": "2024-05-07T10:44:29.600277Z"
    }
   },
   "source": [
    "## Source coding and reversible (lossless) data compression\n"
   ]
  },
  {
   "cell_type": "code",
   "execution_count": 10,
   "metadata": {
    "id": "-F_fTEp10GU0",
    "ExecuteTime": {
     "end_time": "2024-05-07T09:43:41.557769Z",
     "start_time": "2024-05-07T09:43:41.501735Z"
    }
   },
   "outputs": [],
   "source": [
    "# Write here your codes for questions 5 to 15 (you may delete this comment)"
   ]
  },
  {
   "cell_type": "markdown",
   "metadata": {
    "id": "arr1rcE65c6K"
   },
   "source": [
    "## Channel coding"
   ]
  },
  {
   "cell_type": "markdown",
   "source": [
    "## 16. \n",
    "Give the plot of the audio signal and listen to it."
   ],
   "metadata": {
    "collapsed": false,
    "ExecuteTime": {
     "start_time": "2024-05-07T10:44:29.608381Z"
    }
   }
  },
  {
   "cell_type": "code",
   "execution_count": 1,
   "metadata": {
    "id": "ZLwLdqlh5qE5",
    "ExecuteTime": {
     "end_time": "2024-05-07T10:37:42.013142Z",
     "start_time": "2024-05-07T10:37:41.790848Z"
    }
   },
   "outputs": [
    {
     "ename": "NameError",
     "evalue": "name 'wigwag' is not defined",
     "output_type": "error",
     "traceback": [
      "\u001B[0;31m---------------------------------------------------------------------------\u001B[0m",
      "\u001B[0;31mNameError\u001B[0m                                 Traceback (most recent call last)",
      "Cell \u001B[0;32mIn[1], line 33\u001B[0m\n\u001B[1;32m     29\u001B[0m     codewords \u001B[38;5;241m=\u001B[39m Huffman_code(encoded_probas)\n\u001B[1;32m     30\u001B[0m     \u001B[38;5;28;01mreturn\u001B[39;00m \u001B[38;5;124m\"\u001B[39m\u001B[38;5;124m\"\u001B[39m\u001B[38;5;241m.\u001B[39mjoin([codewords[w] \u001B[38;5;28;01mfor\u001B[39;00m w \u001B[38;5;129;01min\u001B[39;00m encoded])\n\u001B[0;32m---> 33\u001B[0m encoded_huff_then_lz77 \u001B[38;5;241m=\u001B[39m Huffman_then_LZ77(\u001B[43mwigwag\u001B[49m)\n\u001B[1;32m     34\u001B[0m encoded_lz77_then_huff \u001B[38;5;241m=\u001B[39m LZ77_then_Huffman(wigwag)\n\u001B[1;32m     36\u001B[0m compression_rate_encoded_huff_then_lz77 \u001B[38;5;241m=\u001B[39m length_wigwag \u001B[38;5;241m/\u001B[39m \u001B[38;5;28mlen\u001B[39m(encoded_huff_then_lz77)\n",
      "\u001B[0;31mNameError\u001B[0m: name 'wigwag' is not defined"
     ]
    }
   ],
   "source": [
    "from scipy.io import wavfile\n",
    "import matplotlib.pyplot as plt\n",
    "file_path = \"./why.wav\"\n",
    "sampling_rate, audio_signal = wavfile.read(file_path)\n",
    "plt.figure(figsize=(10, 4))\n",
    "plt.plot(audio_signal)\n",
    "plt.title('Audio Signal')\n",
    "plt.xlabel('Sample Index')\n",
    "plt.ylabel('Amplitude')\n",
    "plt.show()"
   ]
  },
  {
   "cell_type": "markdown",
   "source": [
    "## 17. \n",
    "Encode the audio signal using the binary ASCII fixed-length binary code. What is the appropriate number of bits? Justify."
   ],
   "metadata": {
    "collapsed": false,
    "ExecuteTime": {
     "start_time": "2024-05-07T10:44:29.629549Z"
    }
   }
  },
  {
   "cell_type": "code",
   "execution_count": null,
   "outputs": [],
   "source": [
    "# Given that the audio signal is quantized in a range 0-255 (8 bits) the appropiate number of bits to represent the audio is 8 bits\n",
    "quantized_signal = np.interp(audio_signal, (audio_signal.min(), audio_signal.max()), (0, 255))\n",
    "quantized_signal_int = np.round(quantized_signal).astype(np.uint8)\n",
    "binary_ascii_encoded = [format(sample,\n",
    "                               '08b') for sample in quantized_signal_int]\n",
    "print(binary_ascii_encoded[:10])"
   ],
   "metadata": {
    "collapsed": false,
    "ExecuteTime": {
     "start_time": "2024-05-07T10:37:41.994621Z"
    }
   }
  },
  {
   "cell_type": "markdown",
   "source": [
    "## 18. \n",
    "Simulate the channel effect on the binary audio signal. Then decode the audio signal.\n",
    "Plot and play the decoded audio signal. What do you notice?"
   ],
   "metadata": {
    "collapsed": false,
    "ExecuteTime": {
     "start_time": "2024-05-07T10:44:29.630960Z"
    }
   }
  },
  {
   "cell_type": "code",
   "execution_count": 1,
   "outputs": [],
   "source": [
    "p_error = 0.01\n",
    "fs = 16000\n",
    "\n",
    "def simulate_bsc(encoded_signal, p_error):\n",
    "    \"\"\"\n",
    "    Simulates the process of a binary symmetric channel with probability p_error of error\n",
    "    \n",
    "    Arguments:\n",
    "    ----------\n",
    "    encoded_signal:A string containing the message\n",
    "    p_error: number between 0 and 1 representing the probability of error\n",
    "    \n",
    "    Returns:\n",
    "    ----------    \n",
    "   A string representing the message after passing through the binary symmetric channel\n",
    "    \"\"\"\n",
    "    channel_output = []\n",
    "    for bit_string in encoded_signal:\n",
    "        flipped_bits = ''.join(['1' if (bit == '0' and np.random.rand() < p_error) else '0' if (bit == '1' and np.random.rand() < p_error) else bit for bit in bit_string])\n",
    "        channel_output.append(flipped_bits)\n",
    "    return channel_output\n",
    "\n",
    "channel_affected_signal = simulate_bsc(binary_ascii_encoded, p_error)\n",
    "channel_affected_signal_int = np.array([int(bits, 2) for bits in channel_affected_signal], dtype=np.uint8)\n",
    "decoded_audio_signal_interp = np.interp(channel_affected_signal_int, (0, 255), (audio_signal.min(), audio_signal.max()))\n",
    "decoded_audio_signal = np.round(decoded_audio_signal_interp).astype(np.uint8)\n",
    "\n",
    "plt.figure(figsize=(10, 4))\n",
    "plt.plot(decoded_audio_signal)\n",
    "plt.plot(audio_signal)\n",
    "plt.title('Decoded Audio Signal after Channel Effect')\n",
    "plt.xlabel('Sample Index')\n",
    "plt.ylabel('Amplitude')\n",
    "plt.show()\n",
    "\n",
    "wavfile.write('decoded_audio.wav', fs,decoded_audio_signal.astype(np.float32))"
   ],
   "metadata": {
    "collapsed": false,
    "ExecuteTime": {
     "end_time": "2024-05-07T10:37:45.835398Z",
     "start_time": "2024-05-07T10:37:45.830688Z"
    }
   }
  },
  {
   "cell_type": "markdown",
   "source": [
    "## 19. \n",
    "Instead of sending directly through the channel the binary audio signal, you will first\n",
    "introduce some redundancy. To do that, implement a function that returns the\n",
    "Hamming (7,4) code for a given sequence of binary symbols. Then, using your\n",
    "function, encode the binary audio signal (from question 16)."
   ],
   "metadata": {
    "collapsed": false,
    "ExecuteTime": {
     "start_time": "2024-05-07T10:44:29.632824Z"
    }
   }
  },
  {
   "cell_type": "code",
   "execution_count": null,
   "outputs": [],
   "source": [
    "def hamming_7_4(binary_sequence):\n",
    "    \"\"\"\n",
    "    Encodes a sequence of 4-bit binary symbols using the Hamming (7,4) code.\n",
    "    \n",
    "    Arguments:\n",
    "    ----------\n",
    "    binary_sequence: A list of strings, where each string is a 4-bit binary symbol.\n",
    "    \n",
    "    Returns:\n",
    "    ----------    \n",
    "    A list of strings, where each string is a 7-bit encoded binary symbol using the Hamming (7,4) code.\n",
    "    \"\"\"\n",
    "    G= np.array([[1, 1, 0, 1],\n",
    "                            [1, 0, 1, 1],\n",
    "                            [1, 0, 0, 0],\n",
    "                            [0, 1, 1, 1],\n",
    "                            [0, 1, 0, 0],\n",
    "                            [0, 0, 1, 0],\n",
    "                            [0, 0, 0, 1]]) # We decided to implement this generator matrix\n",
    "    \n",
    "    encoded_sequence = []\n",
    "    for symbol in binary_sequence:\n",
    "        symbol_bits = np.array(list(symbol), dtype=int)\n",
    "        encoded_symbol = np.dot(G, symbol_bits) % 2\n",
    "        encoded_sequence.append(''.join(str(bit) for bit in encoded_symbol))\n",
    "    return encoded_sequence\n",
    "\n",
    "def encode_hamming74(binary_sequence_8bit):\n",
    "    \"\"\"\n",
    "    Encodes 8-bit binary sequences using Hamming (7,4) code by splitting each 8-bit sequence\n",
    "    into two 4-bit sequences, encoding each with Hamming (7,4), and then concatenating the results.\n",
    "    \n",
    "    Arguments:\n",
    "    ----------\n",
    "    binary_sequence_8bit: A list of strings, where each string is an 8-bit binary sequence.\n",
    "    \n",
    "    Returns:\n",
    "    ----------\n",
    "    A list of strings, where each string is a 14-bit sequence resulting from encoding the original 8 bits.\n",
    "    \"\"\"\n",
    "    encoded_sequences = []\n",
    "    \n",
    "    for sequence in binary_sequence_8bit:\n",
    "        first_half, second_half = sequence[:4], sequence[4:]\n",
    "        \n",
    "        encoded_first_half = hamming_7_4([first_half])[0]\n",
    "        encoded_second_half = hamming_7_4([second_half])[0]\n",
    "        \n",
    "        encoded_sequence = encoded_first_half + encoded_second_half\n",
    "        encoded_sequences.append(encoded_sequence)\n",
    "    \n",
    "    return encoded_sequences\n",
    "\n",
    "encoded_sample_red = encode_hamming74(binary_ascii_encoded)\n"
   ],
   "metadata": {
    "collapsed": false,
    "ExecuteTime": {
     "start_time": "2024-05-07T10:44:29.634914Z"
    }
   }
  },
  {
   "cell_type": "code",
   "execution_count": 16,
   "outputs": [
    {
     "name": "stdout",
     "output_type": "stream",
     "text": [
      "['11100000011001', '11100000011001', '11100000110011', '11100001010101', '11100001010101', '11100001010101', '11100001010101', '11100000110011', '11100000110011', '11100000110011']\n"
     ]
    }
   ],
   "source": [
    "print(encoded_sample_red[:10])"
   ],
   "metadata": {
    "collapsed": false,
    "ExecuteTime": {
     "end_time": "2024-05-07T09:46:14.499351Z",
     "start_time": "2024-05-07T09:46:14.494847Z"
    }
   }
  },
  {
   "cell_type": "markdown",
   "source": [
    "## 20. \n",
    "Simulate the channel effect on the binary audio signal with redundancy. Then decode\n",
    "the binary audio signal. Listen to it and display the decoded audio signal. What do\n",
    "you notice? Explain your decoding procedure."
   ],
   "metadata": {
    "collapsed": false,
    "ExecuteTime": {
     "start_time": "2024-05-07T10:44:29.636228Z"
    }
   }
  },
  {
   "cell_type": "code",
   "execution_count": null,
   "outputs": [],
   "source": [
    "def hamming_7_4_decode(encoded_signal):\n",
    "    \"\"\"\n",
    "    Decode and correct errors in a sequence of 7-bit binary symbols using the Hamming (7,4) code.\n",
    "    \n",
    "    Arguments:\n",
    "    ----------\n",
    "    encoded_signal: A list of strings, where each string is a 7-bit encoded binary symbol.\n",
    "    \n",
    "    Returns:    \n",
    "    ----------\n",
    "    A list of strings, where each string is a 4-bit decoded binary symbol.\n",
    "    \"\"\"\n",
    "    H = np.array([[1, 0, 1, 0, 1, 0, 1], # syndrome matrix based on previous matrix G\n",
    "                  [0, 1, 1, 0, 0, 1, 1],\n",
    "                  [0, 0, 0, 1, 1, 1, 1]])\n",
    "    \n",
    "    decoded_sequence = []\n",
    "    for encoded_symbol in encoded_signal:\n",
    "        symbol_bits = np.array(list(encoded_symbol), dtype=int)\n",
    "\n",
    "        syndrome = np.dot(H, symbol_bits) % 2\n",
    "        syndrome_value = syndrome.dot(1 << np.arange(syndrome.shape[-1] - 1, -1, -1))\n",
    "        \n",
    "        if syndrome_value > 0:  \n",
    "            symbol_bits[syndrome_value-1] ^= 1 \n",
    "        \n",
    "        decoded_bits = symbol_bits[[2, 4, 5, 6]]\n",
    "        decoded_sequence.append(''.join(str(bit) for bit in decoded_bits))\n",
    "        \n",
    "    return decoded_sequence\n",
    "\n",
    "def decode_and_correct_hamming(encoded_signal_14bit):\n",
    "    \"\"\"\n",
    "    Decode and correct errors for 14-bit sequences that were encoded using Hamming (7,4). Uses the previously defined function.\n",
    "    \n",
    "    Arguments:\n",
    "    ----------\n",
    "    encoded_signal_14bit: A list of 14-bit strings encoded with Hamming (7,4).\n",
    "    \n",
    "    Returns:\n",
    "    A list of 8-bit binary strings decoded and corrected from the input signal.\n",
    "    \"\"\"\n",
    "    decoded_sequences = []\n",
    "    for sequence in encoded_signal_14bit:\n",
    "        first_half = sequence[:7]\n",
    "        second_half = sequence[7:]\n",
    "        decoded_first_half = hamming_7_4_decode([first_half])[0]\n",
    "        decoded_second_half = hamming_7_4_decode([second_half])[0]\n",
    "        decoded_sequence = decoded_first_half + decoded_second_half\n",
    "        decoded_sequences.append(decoded_sequence)\n",
    "        \n",
    "    return decoded_sequences\n",
    "\n",
    "channel_affected_signal_red = simulate_bsc(encoded_sample_red, p_error)\n",
    "\n",
    "decoded_hamming_signal_14bit = decode_and_correct_hamming(channel_affected_signal_red)\n",
    "decoded_audio_samples = np.array([int(bits, 2) for bits in decoded_hamming_signal_14bit])\n",
    "decoded_audio_red = np.interp(decoded_audio_samples, (0, 255), (audio_signal.min(), audio_signal.max()))\n",
    "decoded_audio_red = np.round(decoded_audio_red).astype(np.uint8)\n"
   ],
   "metadata": {
    "collapsed": false,
    "ExecuteTime": {
     "start_time": "2024-05-07T10:44:29.637418Z"
    }
   }
  },
  {
   "cell_type": "code",
   "execution_count": 48,
   "outputs": [
    {
     "data": {
      "text/plain": "<Figure size 1000x400 with 1 Axes>",
      "image/png": "[encoded data removed]"
     },
     "metadata": {},
     "output_type": "display_data"
    }
   ],
   "source": [
    "plt.figure(figsize=(10, 4))\n",
    "plt.plot(decoded_audio_signal)\n",
    "plt.plot(decoded_audio_red)\n",
    "plt.plot(audio_signal)\n",
    "\n",
    "plt.title('Corrected Decoded Audio Signal after Channel Effect with Hamming Encoding')\n",
    "plt.xlabel('Sample Index')\n",
    "plt.ylabel('Amplitude')\n",
    "plt.show()\n",
    "\n",
    "wavfile.write('decoded_audio_red.wav', fs,decoded_audio_red.astype(np.float32))"
   ],
   "metadata": {
    "collapsed": false,
    "ExecuteTime": {
     "end_time": "2024-04-28T08:45:13.987906Z",
     "start_time": "2024-04-28T08:45:13.609938Z"
    }
   }
  }
 ],
 "metadata": {
  "celltoolbar": "Edit Metadata",
  "colab": {
   "provenance": []
  },
  "kernelspec": {
   "display_name": "Python 3",
   "language": "python",
   "name": "python3"
  },
  "language_info": {
   "codemirror_mode": {
    "name": "ipython",
    "version": 3
   },
   "file_extension": ".py",
   "mimetype": "text/x-python",
   "name": "python",
   "nbconvert_exporter": "python",
   "pygments_lexer": "ipython3",
   "version": "3.8.3"
  }
 },
 "nbformat": 4,
 "nbformat_minor": 0
}

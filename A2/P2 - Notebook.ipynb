{
 "cells": [
  {
   "cell_type": "markdown",
   "metadata": {
    "deletable": false,
    "editable": false,
    "id": "j7kUOJkq0GUo"
   },
   "source": [
    "# Project 2 - Source coding, data compression and channel coding\n",
    "\n",
    "The goal of this second project is to apply some of the principles seen in the lectures about source coding, data compression and channel coding. We ask you to write a brief report (pdf format) collecting your answers to the different questions. All codes must be written in Python inside this Jupyter. Note that you can not change the content of locked cells or import any extra Python library than the ones already imported (numpy)."
   ]
  },
  {
   "cell_type": "markdown",
   "metadata": {
    "deletable": false,
    "editable": false,
    "id": "Ztp8uLg40GUt"
   },
   "source": [
    "## Implementation\n",
    "\n",
    "In this project, you will need to use implement source coding algorithms to answer several questions. Therefore, in this first part, you are asked to write several functions that implement two of the  algorithms seen in the theoretical lectures and one new algorithm described in the project statement. Remember that you need to fill in this Jupyter Notebook to answer these questions. Pay particular attention to the required input and output format of each function."
   ]
  },
  {
   "cell_type": "code",
   "execution_count": 2,
   "metadata": {
    "deletable": false,
    "editable": false,
    "id": "Hj-l1-GY0GUu",
    "ExecuteTime": {
     "end_time": "2024-04-04T12:47:03.617623Z",
     "start_time": "2024-04-04T12:47:03.604096Z"
    }
   },
   "outputs": [],
   "source": [
    "# [Locked Cell] You can not import any extra Python library in this Notebook.\n",
    "import numpy as np"
   ]
  },
  {
   "cell_type": "markdown",
   "metadata": {
    "deletable": false,
    "editable": false,
    "id": "B8U7YQaO0GUv"
   },
   "source": [
    "### Question 1\n",
    "Implement a function that returns a binary Huffman code for a given probability distribution. Give the main steps of your implementation. Verify your code on Exercise 7 of the second exercise session (TP2), and report the output of your code for this example. Explain how to extend your function to generate a Huffman code of any (output) alphabet size. \n"
   ]
  },
  {
   "cell_type": "code",
   "execution_count": 9,
   "metadata": {
    "id": "Ale82t7g0GUw",
    "ExecuteTime": {
     "end_time": "2024-04-04T13:02:06.238718Z",
     "start_time": "2024-04-04T13:02:06.233783Z"
    }
   },
   "outputs": [
    {
     "data": {
      "text/plain": "{'C': '00', 'D': '01', 'E': '10', 'A': '110', 'B': '111'}"
     },
     "execution_count": 9,
     "metadata": {},
     "output_type": "execute_result"
    }
   ],
   "source": [
    "class Node:\n",
    "    def __init__(self, symbol, prob):\n",
    "        self.symbol = symbol\n",
    "        self.prob = prob\n",
    "        self.left = None\n",
    "        self.right = None\n",
    "        self.code = ''\n",
    "\n",
    "def Huffman_code(probability_dict):\n",
    "    \"\"\"\n",
    "    Create the Huffman code for given probabilities.\n",
    "    \n",
    "    Arguments:\n",
    "    probability_dict: A dictionary where keys are symbols (characters or strings)\n",
    "                      and values are the probability of the symbol as a float or double.\n",
    "    \n",
    "    Returns:\n",
    "    codewords: A dictionary with the name and the corresponding codeword.\n",
    "               Keys are symbols (characters or strings) and values are associated\n",
    "               codeword as a character or a string.\n",
    "    \"\"\"\n",
    "    nodes = [Node(symbol, prob) for symbol, prob in probability_dict.items()]\n",
    "    while len(nodes) > 1:\n",
    "\n",
    "        nodes.sort(key=lambda node: node.prob)\n",
    "        \n",
    "        # Nodes with fewer probs\n",
    "        left = nodes.pop(0)\n",
    "        right = nodes.pop(0)\n",
    "\n",
    "        # Combine\n",
    "        new_node = Node(None, left.prob + right.prob)\n",
    "        new_node.left = left\n",
    "        new_node.right = right\n",
    "\n",
    "        nodes.append(new_node)\n",
    "\n",
    "    # Recursive function to assign codes to leaves\n",
    "    def assign_codes(node, prefix=''):\n",
    "        if node.symbol is not None:\n",
    "            return {node.symbol: prefix}\n",
    "        else:\n",
    "            codes = {}\n",
    "            codes.update(assign_codes(node.left, prefix + '0'))\n",
    "            codes.update(assign_codes(node.right, prefix + '1'))\n",
    "            return codes\n",
    "\n",
    "    root = nodes[0]\n",
    "    codeword_dict = assign_codes(root)\n",
    "\n",
    "    return codeword_dict\n",
    "\n",
    "probability_dict = {\"A\": 0.2, \"B\": 0.2, \"C\": 0.2, \"D\": 0.2, \"E\": 0.2} # example?\n",
    "Huffman_code(probability_dict)\n"
   ]
  },
  {
   "cell_type": "markdown",
   "metadata": {
    "deletable": false,
    "editable": false,
    "id": "_KjzF5nZ0GUw"
   },
   "source": [
    "### Question 2\n",
    "\n",
    "Given a sequence of symbols, implement a function that returns a dictionary and the encoded sequence using the on-line Lempel-Ziv algorithm (see State of the art in data compression, slide 50/53). Reproduce and report the example given in the course. "
   ]
  },
  {
   "cell_type": "code",
   "execution_count": 322,
   "outputs": [
    {
     "name": "stdout",
     "output_type": "stream",
     "text": [
      "dictionary: {'': (0, '0'), '1': (1, '1'), '0': (2, '10'), '11': (3, '11'), '01': (4, '100'), '010': (5, '101'), '00': (6, '110'), '10': (7, '111')}\n",
      "encoded sequence: (,1)(0,0)(01,1)(10,1)(100,0)(010,0)(001,0)\n"
     ]
    }
   ],
   "source": [
    "def LZ_Online(sequence):\n",
    "    \"\"\"\n",
    "    The on-line Lempel-Ziv algorithm given a sequence of symbols.\n",
    "    \n",
    "    Arguments:\n",
    "    - sequence: Sequence of symbols in the string format\n",
    "\n",
    "    Return:\n",
    "    - dictionary: the computed dictionary in the form:\n",
    "      keys: symbol as character or string\n",
    "      values: associated codeword as a tuple (integer) and a binarized address with one appended symbol (character or string)\n",
    "      Example: {'0': (0, ''), '1': (1, '0'), '10': (2, '01'), '00': (3, '010')}\n",
    "    \n",
    "    - encoded_sequence: the encoded sequence in the string format\n",
    "    \"\"\"\n",
    "    dictionary = {'': (0, '0')}\n",
    "    encoded_sequence = \"\"\n",
    "    w = \"\"\n",
    "    # The first entry is special, handle it separately\n",
    "    if sequence[0] == '1':\n",
    "        dictionary['1'] = (1, '1')\n",
    "        encoded_sequence += \"(,1)\"\n",
    "        index = 2  \n",
    "    else:\n",
    "        dictionary['0'] = (1, '0')\n",
    "        encoded_sequence += \"(,0)\"\n",
    "        index = 2 \n",
    "        \n",
    "    for c in sequence[1:]:\n",
    "        wc = w + c\n",
    "        if wc not in dictionary:\n",
    "            address_bits = int(np.ceil(np.log2(len(dictionary))))\n",
    "            prefix = format(dictionary[w][0], '0{}b'.format(address_bits)) \n",
    "            encoded_sequence += f\"({prefix},{c})\"\n",
    "            \n",
    "            bin_address = format(index, '0{}b'.format(address_bits))\n",
    "            dictionary[wc] = (index, bin_address) \n",
    "            \n",
    "            index += 1\n",
    "            w = \"\"\n",
    "        else:\n",
    "            w = wc\n",
    "            \n",
    "    # Encode the last phrase if it's not empty\n",
    "    if w:\n",
    "        address_bits = int(np.ceil(np.log2(max(len(dictionary), 1))))\n",
    "        prefix = format(dictionary[w][0]-1, '0{}b'.format(address_bits))\n",
    "        encoded_sequence += f\"({prefix},)\"\n",
    "    \n",
    "    return dictionary, encoded_sequence\n",
    "\n",
    "sequence = \"1011010100010\"\n",
    "dictionary, encoded_sequence = LZ_Online(sequence)\n",
    "print(f'dictionary: {dictionary}')\n",
    "print(f'encoded sequence: {encoded_sequence}')\n"
   ],
   "metadata": {
    "collapsed": false,
    "ExecuteTime": {
     "end_time": "2024-04-04T19:43:00.878173Z",
     "start_time": "2024-04-04T19:43:00.871303Z"
    }
   }
  },
  {
   "cell_type": "markdown",
   "metadata": {
    "deletable": false,
    "editable": false,
    "id": "UG7cwbf50GUx"
   },
   "source": [
    "### Question 4\n",
    "\n",
    "Implement a function that returns the encoded sequence using the LZ77 algorithm as described by the algorithm below given an input string and a sliding window size l. Reproduce the example given in Figure 2 with window_size=7."
   ]
  },
  {
   "cell_type": "code",
   "execution_count": 323,
   "outputs": [
    {
     "name": "stdout",
     "output_type": "stream",
     "text": [
      "Encoded result: (0,0,a)(0,0,b)(0,0,r)(3,1,c)(2,1,d)(7,4,d)\n"
     ]
    }
   ],
   "source": [
    "def LZ77(sequence, window_size=7):\n",
    "    \"\"\"\n",
    "    The Lempel-Ziv 77 algorithm given a sequence of symbols and the sliding window size.\n",
    "    \n",
    "    Arguments:\n",
    "    ----------\n",
    "    - sequence : Sequence of symbols in the string format\n",
    "    - window_size : sliding window size as an integer\n",
    "    \n",
    "    Return:\n",
    "    -------\n",
    "    - encoded_sequence : the encoded sequence in the string format\n",
    "    \"\"\"\n",
    "    encoded_sequence = []\n",
    "    cursor = 0\n",
    "\n",
    "    while cursor < len(sequence):\n",
    "        # Look-ahead buffer\n",
    "        buffer = sequence[cursor:]\n",
    "        window = sequence[max(0, cursor-window_size):cursor]\n",
    "\n",
    "        p = 0\n",
    "        d = 0\n",
    "        c = ''\n",
    "        \n",
    "        for length in range(1, len(buffer)+1):\n",
    "            prefix = buffer[:length]\n",
    "            position = window.rfind(prefix)\n",
    "            if  position>= 0:\n",
    "                d = len(window) - position\n",
    "                p = length\n",
    "                c = buffer[length] if length < len(buffer) else ''\n",
    "            else:\n",
    "                break\n",
    "             \n",
    "        # If no match found, just take the first character of the buffer\n",
    "        if p == 0 and len(buffer) > 0:\n",
    "            c = buffer[0]\n",
    "        \n",
    "        encoded_sequence.append((d, p, c))\n",
    "        shift = p + 1 if p > 0 else 1\n",
    "        cursor += shift\n",
    "    \n",
    "    encoded_sequence_str = ''.join(['({},{},{})'.format(d, p, c) for d, p, c in encoded_sequence])\n",
    "    \n",
    "    return encoded_sequence_str\n",
    "\n",
    "test_sequence = \"abracadabrad\"\n",
    "test_window_size = 7\n",
    "encoded_result = LZ77(test_sequence, test_window_size)\n",
    "print(f'Encoded result: {encoded_result}')"
   ],
   "metadata": {
    "collapsed": false,
    "ExecuteTime": {
     "end_time": "2024-04-04T19:43:05.214956Z",
     "start_time": "2024-04-04T19:43:05.207447Z"
    }
   }
  },
  {
   "cell_type": "code",
   "execution_count": 208,
   "metadata": {
    "deletable": false,
    "editable": false,
    "id": "EG1vVgUg0GUz",
    "ExecuteTime": {
     "end_time": "2024-04-04T18:20:27.917914Z",
     "start_time": "2024-04-04T18:20:27.912026Z"
    }
   },
   "outputs": [],
   "source": [
    "# [Locked Cell] Evaluation of your functions by the examiner. \n",
    "# You don't have access to the evaluation, this will be done by the examiner.\n",
    "# Therefore, this cell will return nothing for the students.\n",
    "import os\n",
    "if os.path.isfile(\"private_evaluation.py\"):\n",
    "    from private_evaluation import unit_tests\n",
    "    unit_tests(Huffman_code, LZ_online, LZ77)"
   ]
  },
  {
   "cell_type": "markdown",
   "metadata": {
    "deletable": false,
    "editable": false,
    "id": "znaBCYTG0GU0"
   },
   "source": [
    "## Source coding and reversible (lossless) data compression\n"
   ]
  },
  {
   "cell_type": "code",
   "execution_count": null,
   "metadata": {
    "id": "-F_fTEp10GU0"
   },
   "outputs": [],
   "source": [
    "# Write here your codes for questions 5 to 15 (you may delete this comment)"
   ]
  },
  {
   "cell_type": "markdown",
   "metadata": {
    "id": "arr1rcE65c6K"
   },
   "source": [
    "## Channel coding"
   ]
  },
  {
   "cell_type": "code",
   "execution_count": null,
   "metadata": {
    "id": "ZLwLdqlh5qE5"
   },
   "outputs": [],
   "source": [
    "# Write here your codes for questions 16 to 21 (you may delete this comment)"
   ]
  }
 ],
 "metadata": {
  "celltoolbar": "Edit Metadata",
  "colab": {
   "provenance": []
  },
  "kernelspec": {
   "display_name": "Python 3",
   "language": "python",
   "name": "python3"
  },
  "language_info": {
   "codemirror_mode": {
    "name": "ipython",
    "version": 3
   },
   "file_extension": ".py",
   "mimetype": "text/x-python",
   "name": "python",
   "nbconvert_exporter": "python",
   "pygments_lexer": "ipython3",
   "version": "3.8.3"
  }
 },
 "nbformat": 4,
 "nbformat_minor": 0
}

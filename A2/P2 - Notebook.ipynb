{
 "cells": [
  {
   "cell_type": "markdown",
   "metadata": {
    "deletable": false,
    "editable": false,
    "id": "j7kUOJkq0GUo"
   },
   "source": [
    "# Project 2 - Source coding, data compression and channel coding\n",
    "\n",
    "The goal of this second project is to apply some of the principles seen in the lectures about source coding, data compression and channel coding. We ask you to write a brief report (pdf format) collecting your answers to the different questions. All codes must be written in Python inside this Jupyter. Note that you can not change the content of locked cells or import any extra Python library than the ones already imported (numpy)."
   ]
  },
  {
   "cell_type": "markdown",
   "metadata": {
    "deletable": false,
    "editable": false,
    "id": "Ztp8uLg40GUt"
   },
   "source": [
    "## Implementation\n",
    "\n",
    "In this project, you will need to use implement source coding algorithms to answer several questions. Therefore, in this first part, you are asked to write several functions that implement two of the  algorithms seen in the theoretical lectures and one new algorithm described in the project statement. Remember that you need to fill in this Jupyter Notebook to answer these questions. Pay particular attention to the required input and output format of each function."
   ]
  },
  {
   "cell_type": "code",
   "execution_count": null,
   "metadata": {
    "deletable": false,
    "editable": false,
    "id": "Hj-l1-GY0GUu"
   },
   "outputs": [],
   "source": [
    "# [Locked Cell] You can not import any extra Python library in this Notebook.\n",
    "import numpy as np"
   ]
  },
  {
   "cell_type": "markdown",
   "metadata": {
    "deletable": false,
    "editable": false,
    "id": "B8U7YQaO0GUv"
   },
   "source": [
    "### Question 1\n",
    "Implement a function that returns a binary Huffman code for a given probability distribution. Give the main steps of your implementation. Verify your code on Exercise 7 of the second exercise session (TP2), and report the output of your code for this example. Explain how to extend your function to generate a Huffman code of any (output) alphabet size. \n"
   ]
  },
  {
   "cell_type": "code",
   "execution_count": null,
   "metadata": {
    "id": "Ale82t7g0GUw"
   },
   "outputs": [],
   "source": [
    "class Node:\n",
    "    def __init__(self, symbol, prob):\n",
    "        self.symbol = symbol\n",
    "        self.prob = prob\n",
    "        self.left = None\n",
    "        self.right = None\n",
    "        self.code = ''\n",
    "\n",
    "def Huffman_code(probability_dict):\n",
    "    \"\"\"\n",
    "    Create the Huffman code for given probabilities.\n",
    "    \n",
    "    Arguments:\n",
    "    probability_dict: A dictionary where keys are symbols (characters or strings)\n",
    "                      and values are the probability of the symbol as a float or double.\n",
    "    \n",
    "    Returns:\n",
    "    codewords: A dictionary with the name and the corresponding codeword.\n",
    "               Keys are symbols (characters or strings) and values are associated\n",
    "               codeword as a character or a string.\n",
    "    \"\"\"\n",
    "    nodes = [Node(symbol, prob) for symbol, prob in probability_dict.items()]\n",
    "    while len(nodes) > 1:\n",
    "\n",
    "        nodes.sort(key=lambda node: node.prob)\n",
    "        \n",
    "        # Nodes with fewer probs\n",
    "        left = nodes.pop(0)\n",
    "        right = nodes.pop(0)\n",
    "\n",
    "        # Combine\n",
    "        new_node = Node(None, left.prob + right.prob)\n",
    "        new_node.left = left\n",
    "        new_node.right = right\n",
    "\n",
    "        nodes.append(new_node)\n",
    "\n",
    "    # Recursive function to assign codes to leaves\n",
    "    def assign_codes(node, prefix=''):\n",
    "        if node.symbol is not None:\n",
    "            return {node.symbol: prefix}\n",
    "        else:\n",
    "            codes = {}\n",
    "            codes.update(assign_codes(node.left, prefix + '0'))\n",
    "            codes.update(assign_codes(node.right, prefix + '1'))\n",
    "            return codes\n",
    "\n",
    "    root = nodes[0]\n",
    "    codeword_dict = assign_codes(root)\n",
    "\n",
    "    return codeword_dict\n",
    "\n",
    "probability_dict = {\"A\": 0.2, \"B\": 0.2, \"C\": 0.2, \"D\": 0.2, \"E\": 0.2} # example?\n",
    "Huffman_code(probability_dict)\n"
   ]
  },
  {
   "cell_type": "markdown",
   "metadata": {
    "deletable": false,
    "editable": false,
    "id": "_KjzF5nZ0GUw"
   },
   "source": [
    "### Question 2\n",
    "\n",
    "Given a sequence of symbols, implement a function that returns a dictionary and the encoded sequence using the on-line Lempel-Ziv algorithm (see State of the art in data compression, slide 50/53). Reproduce and report the example given in the course. "
   ]
  },
  {
   "cell_type": "code",
   "execution_count": null,
   "outputs": [],
   "source": [
    "def LZ_Online(sequence):\n",
    "    \"\"\"\n",
    "    The on-line Lempel-Ziv algorithm given a sequence of symbols.\n",
    "    \n",
    "    Arguments:\n",
    "    - sequence: Sequence of symbols in the string format\n",
    "\n",
    "    Return:\n",
    "    - dictionary: the computed dictionary in the form:\n",
    "      keys: symbol as character or string\n",
    "      values: associated codeword as a tuple (integer) and a binarized address with one appended symbol (character or string)\n",
    "      Example: {'0': (0, ''), '1': (1, '0'), '10': (2, '01'), '00': (3, '010')}\n",
    "    \n",
    "    - encoded_sequence: the encoded sequence in the string format\n",
    "    \"\"\"\n",
    "    dictionary = {'': (0, '0')}\n",
    "    encoded_sequence = \"\"\n",
    "    w = \"\"\n",
    "    # The first entry is special, handle it separately\n",
    "    if sequence[0] == '1':\n",
    "        dictionary['1'] = (1, '1')\n",
    "        encoded_sequence += \"(,1)\"\n",
    "        index = 2  \n",
    "    else:\n",
    "        dictionary['0'] = (1, '0')\n",
    "        encoded_sequence += \"(,0)\"\n",
    "        index = 2 \n",
    "        \n",
    "    for c in sequence[1:]:\n",
    "        wc = w + c\n",
    "        if wc not in dictionary:\n",
    "            address_bits = int(np.ceil(np.log2(len(dictionary))))\n",
    "            prefix = format(dictionary[w][0], '0{}b'.format(address_bits)) \n",
    "            encoded_sequence += f\"({prefix},{c})\"\n",
    "            \n",
    "            bin_address = format(index, '0{}b'.format(address_bits))\n",
    "            dictionary[wc] = (index, bin_address) \n",
    "            \n",
    "            index += 1\n",
    "            w = \"\"\n",
    "        else:\n",
    "            w = wc\n",
    "            \n",
    "    # Encode the last phrase if it's not empty\n",
    "    if w:\n",
    "        address_bits = int(np.ceil(np.log2(max(len(dictionary), 1))))\n",
    "        prefix = format(dictionary[w][0]-1, '0{}b'.format(address_bits))\n",
    "        encoded_sequence += f\"({prefix},)\"\n",
    "    \n",
    "    return dictionary, encoded_sequence\n",
    "\n",
    "sequence = \"1011010100010\"\n",
    "dictionary, encoded_sequence = LZ_Online(sequence)\n",
    "print(f'dictionary: {dictionary}')\n",
    "print(f'encoded sequence: {encoded_sequence}')\n"
   ],
   "metadata": {
    "collapsed": false
   }
  },
  {
   "cell_type": "markdown",
   "metadata": {
    "deletable": false,
    "editable": false,
    "id": "UG7cwbf50GUx"
   },
   "source": [
    "### Question 4\n",
    "\n",
    "Implement a function that returns the encoded sequence using the LZ77 algorithm as described by the algorithm below given an input string and a sliding window size l. Reproduce the example given in Figure 2 with window_size=7."
   ]
  },
  {
   "cell_type": "code",
   "execution_count": null,
   "outputs": [],
   "source": [
    "def LZ77(sequence, window_size=7):\n",
    "    \"\"\"\n",
    "    The Lempel-Ziv 77 algorithm given a sequence of symbols and the sliding window size.\n",
    "    \n",
    "    Arguments:\n",
    "    ----------\n",
    "    - sequence : Sequence of symbols in the string format\n",
    "    - window_size : sliding window size as an integer\n",
    "    \n",
    "    Return:\n",
    "    -------\n",
    "    - encoded_sequence : the encoded sequence in the string format\n",
    "    \"\"\"\n",
    "    encoded_sequence = []\n",
    "    cursor = 0\n",
    "\n",
    "    while cursor < len(sequence):\n",
    "        # Look-ahead buffer\n",
    "        buffer = sequence[cursor:]\n",
    "        window = sequence[max(0, cursor-window_size):cursor]\n",
    "\n",
    "        p = 0\n",
    "        d = 0\n",
    "        c = ''\n",
    "        \n",
    "        for length in range(1, len(buffer)+1):\n",
    "            prefix = buffer[:length]\n",
    "            position = window.rfind(prefix)\n",
    "            if  position>= 0:\n",
    "                d = len(window) - position\n",
    "                p = length\n",
    "                c = buffer[length] if length < len(buffer) else ''\n",
    "            else:\n",
    "                break\n",
    "             \n",
    "        # If no match found, just take the first character of the buffer\n",
    "        if p == 0 and len(buffer) > 0:\n",
    "            c = buffer[0]\n",
    "        \n",
    "        encoded_sequence.append((d, p, c))\n",
    "        shift = p + 1 if p > 0 else 1\n",
    "        cursor += shift\n",
    "    \n",
    "    encoded_sequence_str = ''.join(['({},{},{})'.format(d, p, c) for d, p, c in encoded_sequence])\n",
    "    \n",
    "    return encoded_sequence_str\n",
    "\n",
    "test_sequence = \"abracadabrad\"\n",
    "test_window_size = 7\n",
    "encoded_result = LZ77(test_sequence, test_window_size)\n",
    "print(f'Encoded result: {encoded_result}')"
   ],
   "metadata": {
    "collapsed": false
   }
  },
  {
   "cell_type": "code",
   "execution_count": null,
   "metadata": {
    "deletable": false,
    "editable": false,
    "id": "EG1vVgUg0GUz"
   },
   "outputs": [],
   "source": [
    "# [Locked Cell] Evaluation of your functions by the examiner. \n",
    "# You don't have access to the evaluation, this will be done by the examiner.\n",
    "# Therefore, this cell will return nothing for the students.\n",
    "import os\n",
    "if os.path.isfile(\"private_evaluation.py\"):\n",
    "    from private_evaluation import unit_tests\n",
    "    unit_tests(Huffman_code, LZ_online, LZ77)"
   ]
  },
  {
   "cell_type": "markdown",
   "metadata": {
    "deletable": false,
    "editable": false,
    "id": "znaBCYTG0GU0"
   },
   "source": [
    "## Source coding and reversible (lossless) data compression\n"
   ]
  },
  {
   "cell_type": "code",
   "execution_count": null,
   "metadata": {
    "id": "-F_fTEp10GU0"
   },
   "outputs": [],
   "source": [
    "# Write here your codes for questions 5 to 15 (you may delete this comment)"
   ]
  },
  {
   "cell_type": "markdown",
   "metadata": {
    "id": "arr1rcE65c6K"
   },
   "source": [
    "## Channel coding"
   ]
  },
  {
   "cell_type": "markdown",
   "source": [
    "16. Give the plot of the audio signal and listen to it."
   ],
   "metadata": {
    "collapsed": false
   }
  },
  {
   "cell_type": "code",
   "execution_count": null,
   "metadata": {
    "id": "ZLwLdqlh5qE5"
   },
   "outputs": [],
   "source": [
    "from scipy.io import wavfile\n",
    "import matplotlib.pyplot as plt\n",
    "file_path = \"./why.wav\"\n",
    "sampling_rate, audio_signal = wavfile.read(file_path)\n",
    "plt.figure(figsize=(10, 4))\n",
    "plt.plot(audio_signal)\n",
    "plt.title('Audio Signal')\n",
    "plt.xlabel('Sample Index')\n",
    "plt.ylabel('Amplitude')\n",
    "plt.show()"
   ]
  },
  {
   "cell_type": "markdown",
   "source": [
    "17. Encode the audio signal using the binary ASCII fixed-length binary code. What is the appropriate number of bits? Justify."
   ],
   "metadata": {
    "collapsed": false
   }
  },
  {
   "cell_type": "code",
   "execution_count": null,
   "outputs": [],
   "source": [
    "# Given that the audio signal is quantized in a range 0-255 (8 bits) the appropiate number of bits to represent the audio is 8 bits\n",
    "quantized_signal = np.interp(audio_signal, (audio_signal.min(), audio_signal.max()), (0, 255))\n",
    "quantized_signal_int = np.round(quantized_signal).astype(np.uint8)\n",
    "binary_ascii_encoded = [format(sample, '08b') for sample in quantized_signal_int]\n",
    "print(binary_ascii_encoded)"
   ],
   "metadata": {
    "collapsed": false
   }
  },
  {
   "cell_type": "markdown",
   "source": [
    "18. Simulate the channel effect on the binary audio signal. Then decode the audio signal.\n",
    "Plot and play the decoded audio signal. What do you notice?"
   ],
   "metadata": {
    "collapsed": false
   }
  },
  {
   "cell_type": "code",
   "execution_count": null,
   "outputs": [],
   "source": [
    "p_error = 0.01\n",
    "fs = 16000\n",
    "\n",
    "def simulate_bsc(encoded_signal, p_error):\n",
    "    channel_output = []\n",
    "    for bit_string in encoded_signal:\n",
    "        flipped_bits = ''.join(['1' if (bit == '0' and np.random.rand() < p_error) else '0' if (bit == '1' and np.random.rand() < p_error) else bit for bit in bit_string])\n",
    "        channel_output.append(flipped_bits)\n",
    "    return channel_output\n",
    "\n",
    "channel_affected_signal = simulate_bsc(binary_ascii_encoded, p_error)\n",
    "channel_affected_signal_int = np.array([int(bits, 2) for bits in channel_affected_signal], dtype=np.uint8)\n",
    "decoded_audio_signal_interp = np.interp(channel_affected_signal_int, (0, 255), (audio_signal.min(), audio_signal.max()))\n",
    "decoded_audio_signal = np.round(decoded_audio_signal_interp).astype(np.uint8)\n",
    "\n",
    "plt.figure(figsize=(10, 4))\n",
    "plt.plot(decoded_audio_signal)\n",
    "plt.plot(audio_signal)\n",
    "plt.title('Decoded Audio Signal after Channel Effect')\n",
    "plt.xlabel('Sample Index')\n",
    "plt.ylabel('Amplitude')\n",
    "plt.show()\n",
    "\n",
    "wavfile.write('decoded_audio.wav', fs,decoded_audio_signal.astype(np.float32))"
   ],
   "metadata": {
    "collapsed": false
   }
  },
  {
   "cell_type": "markdown",
   "source": [
    "19. Instead of sending directly through the channel the binary audio signal, you will first\n",
    "introduce some redundancy. To do that, implement a function that returns the\n",
    "Hamming (7,4) code for a given sequence of binary symbols. Then, using your\n",
    "function, encode the binary audio signal (from question 16)."
   ],
   "metadata": {
    "collapsed": false
   }
  },
  {
   "cell_type": "code",
   "execution_count": null,
   "outputs": [],
   "source": [
    "def hamming_7_4(binary_sequence):\n",
    "    \"\"\"\n",
    "    Correctly encode a sequence of 4-bit binary symbols using the Hamming (7,4) code.\n",
    "    \n",
    "    Args:\n",
    "    binary_sequence: A list of strings, where each string is a 4-bit binary symbol.\n",
    "    \n",
    "    Returns:\n",
    "    A list of strings, where each string is a 7-bit encoded binary symbol using the Hamming (7,4) code.\n",
    "    \"\"\"\n",
    "    G= np.array([[1, 1, 0, 1],\n",
    "                            [1, 0, 1, 1],\n",
    "                            [1, 0, 0, 0],\n",
    "                            [0, 1, 1, 1],\n",
    "                            [0, 1, 0, 0],\n",
    "                            [0, 0, 1, 0],\n",
    "                            [0, 0, 0, 1]])\n",
    "    \n",
    "    encoded_sequence = []\n",
    "    for symbol in binary_sequence:\n",
    "        symbol_bits = np.array(list(symbol), dtype=int)\n",
    "        encoded_symbol = np.dot(G, symbol_bits) % 2\n",
    "        encoded_sequence.append(''.join(str(bit) for bit in encoded_symbol))\n",
    "    return encoded_sequence\n",
    "\n",
    "def encode_hamming74(binary_sequence_8bit):\n",
    "    \"\"\"\n",
    "    Encodes 8-bit binary sequences using Hamming (7,4) code by splitting each 8-bit sequence\n",
    "    into two 4-bit sequences, encoding each with Hamming (7,4), and then concatenating the results.\n",
    "    \n",
    "    Args:\n",
    "    binary_sequence_8bit: A list of strings, where each string is an 8-bit binary sequence.\n",
    "    \n",
    "    Returns:\n",
    "    A list of strings, where each string is a 14-bit sequence resulting from encoding the original 8 bits.\n",
    "    \"\"\"\n",
    "    encoded_sequences = []\n",
    "    \n",
    "    for sequence in binary_sequence_8bit:\n",
    "        first_half, second_half = sequence[:4], sequence[4:]\n",
    "        \n",
    "        encoded_first_half = hamming_7_4([first_half])[0]\n",
    "        encoded_second_half = hamming_7_4([second_half])[0]\n",
    "        \n",
    "        encoded_sequence = encoded_first_half + encoded_second_half\n",
    "        encoded_sequences.append(encoded_sequence)\n",
    "    \n",
    "    return encoded_sequences\n",
    "\n",
    "encoded_sample_red = encode_hamming74(binary_ascii_encoded)\n"
   ],
   "metadata": {
    "collapsed": false
   }
  },
  {
   "cell_type": "code",
   "execution_count": null,
   "outputs": [],
   "source": [
    "print(encoded_sample_red[:10])"
   ],
   "metadata": {
    "collapsed": false
   }
  },
  {
   "cell_type": "markdown",
   "source": [
    "20. Simulate the channel effect on the binary audio signal with redundancy. Then decode\n",
    "the binary audio signal. Listen to it and display the decoded audio signal. What do\n",
    "you notice? Explain your decoding procedure."
   ],
   "metadata": {
    "collapsed": false
   }
  },
  {
   "cell_type": "code",
   "execution_count": null,
   "outputs": [],
   "source": [
    "channel_affected_signal_red = simulate_bsc(encoded_sample_red, p_error)\n",
    "\n",
    "def hamming_7_4_decode(encoded_signal):\n",
    "    \"\"\"\n",
    "    Decode and correct errors in a sequence of 7-bit binary symbols using the Hamming (7,4) code.\n",
    "    \n",
    "    Args:\n",
    "    encoded_signal: A list of strings, where each string is a 7-bit encoded binary symbol.\n",
    "    \n",
    "    Returns:\n",
    "    A list of strings, where each string is a 4-bit decoded binary symbol.\n",
    "    \"\"\"\n",
    "    H = np.array([[1, 0, 1, 0, 1, 0, 1],\n",
    "                  [0, 1, 1, 0, 0, 1, 1],\n",
    "                  [0, 0, 0, 1, 1, 1, 1]])\n",
    "    \n",
    "    decoded_sequence = []\n",
    "    for encoded_symbol in encoded_signal:\n",
    "        symbol_bits = np.array(list(encoded_symbol), dtype=int)\n",
    "\n",
    "        syndrome = np.dot(H, symbol_bits) % 2\n",
    "        syndrome_value = syndrome.dot(1 << np.arange(syndrome.shape[-1] - 1, -1, -1))\n",
    "        \n",
    "        if syndrome_value > 0:  # If syndrome is not zero, correct the error\n",
    "            symbol_bits[syndrome_value-1] ^= 1 \n",
    "        \n",
    "        # Extract the original 4 data bits (positions 2, 4, 5, 6 in the Hamming code)\n",
    "        decoded_bits = symbol_bits[[2, 4, 5, 6]]\n",
    "        decoded_sequence.append(''.join(str(bit) for bit in decoded_bits))\n",
    "        \n",
    "    return decoded_sequence\n",
    "\n",
    "def decode_and_correct_hamming74(encoded_signal_14bit):\n",
    "    \"\"\"\n",
    "    Decode and correct errors for 14-bit sequences that were encoded using Hamming (7,4) code twice.\n",
    "    \n",
    "    Args:\n",
    "    encoded_signal_14bit: A list of 14-bit strings encoded with Hamming (7,4).\n",
    "    \n",
    "    Returns:\n",
    "    A list of 8-bit binary strings decoded and corrected from the input signal.\n",
    "    \"\"\"\n",
    "    decoded_sequences = []\n",
    "    for sequence in encoded_signal_14bit:\n",
    "        first_half = sequence[:7]\n",
    "        second_half = sequence[7:]\n",
    "        decoded_first_half = hamming_7_4_decode([first_half])[0]\n",
    "        decoded_second_half = hamming_7_4_decode([second_half])[0]\n",
    "        decoded_sequence = decoded_first_half + decoded_second_half\n",
    "        decoded_sequences.append(decoded_sequence)\n",
    "        \n",
    "    return decoded_sequences\n",
    "\n",
    "\n",
    "decoded_hamming_signal_14bit = decode_and_correct_hamming74(channel_affected_signal_red)\n",
    "decoded_audio_samples = np.array([int(bits, 2) for bits in decoded_hamming_signal_14bit])\n",
    "decoded_audio_red = np.interp(decoded_audio_samples, (0, 255), (audio_signal.min(), audio_signal.max()))\n",
    "decoded_audio_red = np.round(decoded_audio_red).astype(np.uint8)\n"
   ],
   "metadata": {
    "collapsed": false
   }
  },
  {
   "cell_type": "code",
   "execution_count": null,
   "outputs": [],
   "source": [
    "plt.figure(figsize=(10, 4))\n",
    "plt.plot(decoded_audio_signal)\n",
    "plt.plot(decoded_audio_red)\n",
    "plt.plot(audio_signal)\n",
    "#plt.plot(abs(decoded_audio_red - audio_signal))\n",
    "#plt.plot(abs(decoded_audio_signal - audio_signal)[100000:100100])\n",
    "#plt.plot(abs(decoded_audio_signal - decoded_audio_red)[0:25000])\n",
    "plt.title('Corrected Decoded Audio Signal after Channel Effect with Hamming Encoding')\n",
    "plt.xlabel('Sample Index')\n",
    "plt.ylabel('Amplitude')\n",
    "plt.show()\n",
    "\n",
    "wavfile.write('decoded_audio_red.wav', fs,decoded_audio_signal.astype(np.float32))"
   ],
   "metadata": {
    "collapsed": false
   }
  },
  {
   "cell_type": "code",
   "execution_count": null,
   "outputs": [],
   "source": [],
   "metadata": {
    "collapsed": false
   }
  }
 ],
 "metadata": {
  "celltoolbar": "Edit Metadata",
  "colab": {
   "provenance": []
  },
  "kernelspec": {
   "display_name": "Python 3",
   "language": "python",
   "name": "python3"
  },
  "language_info": {
   "codemirror_mode": {
    "name": "ipython",
    "version": 3
   },
   "file_extension": ".py",
   "mimetype": "text/x-python",
   "name": "python",
   "nbconvert_exporter": "python",
   "pygments_lexer": "ipython3",
   "version": "3.8.3"
  }
 },
 "nbformat": 4,
 "nbformat_minor": 0
}
